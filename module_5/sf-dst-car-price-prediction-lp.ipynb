{
 "cells": [
  {
   "cell_type": "markdown",
   "id": "ca75e3fe",
   "metadata": {
    "id": "ca75e3fe"
   },
   "source": [
    "# Прогнозирование стоимости автомобиля по характеристикам"
   ]
  },
  {
   "cell_type": "markdown",
   "id": "f75df426",
   "metadata": {
    "id": "f75df426"
   },
   "source": [
    "### Описание признаков в тестовом датасете:\n",
    "\n",
    "bodyType - тип кузова,\n",
    "brand - марка автомобиля,\n",
    "car_url - адрес страницы с объявлением,\n",
    "color - цвет автомобиля,\n",
    "complectation_dict - словарь с параметрами комплектации авто,\n",
    "description - описание автомобиля,\n",
    "engineDisplacement - объем двигателя,\n",
    "enginePower - мощность двигателя,\n",
    "equipment_dict - словарь оснащения авто,\n",
    "fuelType - тип топлива,\n",
    "image - изображение,\n",
    "mileage - пробег,\n",
    "modelDate - дата выпуска модели,\n",
    "model_info - информация о модели,\n",
    "model_name - название модели,\n",
    "name - имя,\n",
    "numberOfDoors - кол-во дверей,\n",
    "parsing_unixtime - когда был произведен парсинг данных,\n",
    "priceCurrency - валюта,\n",
    "productionDate - год производства,\n",
    "sell_id,\n",
    "super_gen - словарь с дополинтельной информацией,\n",
    "vehicleConfiguration - конфигурация транспортного средства,\n",
    "vehicleTransmission - трансмиссия,\n",
    "vendor - регион изготовления,\n",
    "Владельцы - кол-во владельцев,\n",
    "Владение - период владения,\n",
    "ПТС,\n",
    "Привод,\n",
    "Руль,\n",
    "Состояние,\n",
    "Таможня"
   ]
  },
  {
   "cell_type": "markdown",
   "id": "b9fa2a5b",
   "metadata": {},
   "source": [
    "## Парсинг.\n",
    "В результате парсинга данных результат оказался неудовлетворительным. С учетом отсутствия достаточного количества времени принял решение воспользоваться набором данных с Kaggle."
   ]
  },
  {
   "cell_type": "code",
   "execution_count": null,
   "id": "f3csGBqDwAkD",
   "metadata": {
    "id": "f3csGBqDwAkD"
   },
   "outputs": [],
   "source": [
    "# использовалась при работе в Colabe Notebooks\n",
    "# used when working at Colabe Notebooks\n",
    "#from google.colab import drive"
   ]
  },
  {
   "cell_type": "markdown",
   "id": "1bc005c2",
   "metadata": {
    "id": "1bc005c2"
   },
   "source": [
    "## Импорт библиотек"
   ]
  },
  {
   "cell_type": "code",
   "execution_count": null,
   "id": "43e8e911",
   "metadata": {
    "id": "43e8e911"
   },
   "outputs": [],
   "source": [
    "import numpy as np\n",
    "import pandas as pd\n",
    "import sys\n",
    "import re\n",
    "import matplotlib.pyplot as plt\n",
    "import seaborn as sns\n",
    "import warnings\n",
    "import time\n",
    "import xgboost as xgb\n",
    "\n",
    "from sklearn.ensemble import GradientBoostingRegressor\n",
    "from sklearn.model_selection import GridSearchCV\n",
    "from sklearn.neighbors import KNeighborsRegressor\n",
    "from pandas_profiling import ProfileReport\n",
    "from scipy.stats import ttest_ind\n",
    "from itertools import combinations\n",
    "from tqdm.notebook import tqdm\n",
    "from catboost import CatBoostRegressor\n",
    "import xgboost as xgb\n",
    "from sklearn.base import clone\n",
    "\n",
    "from sklearn.utils import shuffle\n",
    "from sklearn.model_selection import train_test_split, KFold, RandomizedSearchCV\n",
    "from sklearn.preprocessing import LabelEncoder, OneHotEncoder, StandardScaler, RobustScaler, MinMaxScaler\n",
    "from sklearn.feature_extraction.text import CountVectorizer\n",
    "from sklearn.feature_selection import f_regression, mutual_info_regression\n",
    "from sklearn.metrics import mean_absolute_error\n",
    "from sklearn.linear_model import LinearRegression\n",
    "from sklearn.ensemble import RandomForestRegressor, ExtraTreesRegressor, BaggingRegressor\n",
    "from sklearn.ensemble import StackingRegressor\n",
    "\n",
    "%matplotlib inline\n",
    "warnings.simplefilter('ignore')\n",
    "sns.set()"
   ]
  },
  {
   "cell_type": "code",
   "execution_count": null,
   "id": "j1WdxpvkwO8T",
   "metadata": {
    "colab": {
     "base_uri": "https://localhost:8080/"
    },
    "id": "j1WdxpvkwO8T",
    "outputId": "4852feb7-a401-4bdc-de74-59346ca7f351"
   },
   "outputs": [],
   "source": [
    "# использовалась при работе в Colabe Notebooks\n",
    "# used when working at Colabe Notebooks\n",
    "#drive.mount('/drive')"
   ]
  },
  {
   "cell_type": "code",
   "execution_count": null,
   "id": "c657dc34",
   "metadata": {
    "id": "c657dc34"
   },
   "outputs": [],
   "source": [
    "# зафиксируем версию пакетов, чтобы эксперименты были воспроизводимы:\n",
    "!pip freeze > requirements.txt"
   ]
  },
  {
   "cell_type": "code",
   "execution_count": null,
   "id": "85554e8a",
   "metadata": {
    "id": "85554e8a"
   },
   "outputs": [],
   "source": [
    "# зафиксируем RANDOM_SEED, чтобы эксперименты были воспроизводимы:\n",
    "RANDOM_SEED = 42"
   ]
  },
  {
   "cell_type": "markdown",
   "id": "48e9b7ef",
   "metadata": {
    "id": "48e9b7ef"
   },
   "source": [
    "## Пользовательские функции."
   ]
  },
  {
   "cell_type": "code",
   "execution_count": null,
   "id": "60c2ddb7",
   "metadata": {
    "id": "60c2ddb7"
   },
   "outputs": [],
   "source": [
    "def mape(y_true, y_pred):\n",
    "    \"\"\"\n",
    "    Функция возвращает метрику MAPE.\n",
    "    На вход получает массив реальных и предсказанных значений y.\n",
    "    \"\"\"\n",
    "    return np.mean(np.abs((y_pred-y_true)/y_true))"
   ]
  },
  {
   "cell_type": "code",
   "execution_count": null,
   "id": "e126d62f",
   "metadata": {
    "id": "e126d62f"
   },
   "outputs": [],
   "source": [
    "def months_to_sent(months):\n",
    "    \"\"\"\n",
    "    Функция, которая принимает на вход количество месяцев, а возвращает строку в формате \"x  месяц(-а -ев)\"\n",
    "    \"\"\"\n",
    "    if months == 1:\n",
    "        return f'{months} месяц'\n",
    "    elif 2 <= months <= 4:\n",
    "        return f'{months} месяца'\n",
    "    return f'{months} месяцев'\n",
    "\n",
    "\n",
    "def years_to_sent(years):\n",
    "    \"\"\"\n",
    "    Функция, которая принимает на вход количество лет, а возвращает строку в формате \"x  лет/год/года\"\n",
    "    \"\"\"\n",
    "    if 11 <= years <= 14 or 5 <= years % 10 <= 9 or years % 10 == 0:\n",
    "        return f'{years} лет'\n",
    "    elif years % 10 == 1:\n",
    "        return f'{years} год'\n",
    "    elif 2 <= years % 10 <= 4:\n",
    "        return f'{years} годa'\n",
    "\n",
    "\n",
    "def tenure(row):\n",
    "    \"\"\"\n",
    "    Функция, которая приводит содержимое ячейки \"Владение\" в train к тому же виду, как в test.\n",
    "    Вход: строка series (строка колонки).\n",
    "    Выход: возвращает вместо словаря информацию в виде \"x лет y месяцев\"\n",
    "    \"\"\"\n",
    "    row = re.findall('\\d+', str(row))  # находим все целые числа в строке\n",
    "    if row != []:\n",
    "        years = 2020 - (int(row[0])+1)  # 2020, т.к. данные собраны в 2020 году\n",
    "        months = 2 + (12 - int(row[1]))\n",
    "        if years < 0:\n",
    "            return months_to_sent(int(row[1]))\n",
    "        elif years == 0 and months < 12:\n",
    "            return months_to_sent(months)\n",
    "        elif years >= 0 and months == 12:\n",
    "            return years_to_sent(years + 1)\n",
    "        elif years >= 0 and months > 12:\n",
    "            return years_to_sent(years + 1)+' и '+months_to_sent(months - 12)\n",
    "        elif years > 0 and months < 12:\n",
    "            return years_to_sent(years)+' и '+months_to_sent(months)\n",
    "        return None"
   ]
  },
  {
   "cell_type": "code",
   "execution_count": null,
   "id": "759329b7",
   "metadata": {
    "id": "759329b7"
   },
   "outputs": [],
   "source": [
    "def convert_engineDisplacement_to_float(row):\n",
    "    \"\"\"\n",
    "    Функция, которая принимает строку, содержащую информацию про объеме двигателя, находит числовое значение (через точку, например 2.0),\n",
    "    возвращает значение литров во float формате.\n",
    "    \"\"\"\n",
    "    row = str(row)\n",
    "    volume = re.findall('\\d\\.\\d', row)\n",
    "    if volume == []:\n",
    "        return None\n",
    "    return float(volume[0])"
   ]
  },
  {
   "cell_type": "code",
   "execution_count": null,
   "id": "7d0037c6",
   "metadata": {
    "id": "7d0037c6"
   },
   "outputs": [],
   "source": [
    "def intitial_eda_checks(df, missing_percent):\n",
    "    '''\n",
    "    Функция принимает на вход датафрейм, а также заданный порог % пустых значений, который хотим обработать. \n",
    "    На выход выводит на экран информацию о сумме пустых значений для всех колонок, а также проце\n",
    "    '''\n",
    "    if df.isnull().sum().sum() > 0:\n",
    "        mask_total = df.isnull().sum().sort_values(ascending=False)\n",
    "        total = mask_total[mask_total > 0]\n",
    "\n",
    "        mask_percent = df.isnull().mean().sort_values(ascending=False)\n",
    "        percent = mask_percent[mask_percent > 0]\n",
    "\n",
    "        series = mask_percent[mask_percent > missing_percent]\n",
    "        columns = series.index.to_list()\n",
    "\n",
    "        missing_data = pd.DataFrame(pd.concat(\n",
    "            [total, round(percent*100, 2)], axis=1, keys=['Количество', '%']))\n",
    "        print('Сумма и процент значений NaN:\\n \\n')\n",
    "        display(missing_data)\n",
    "    else:\n",
    "        print('NaN значения не найдены.')"
   ]
  },
  {
   "cell_type": "code",
   "execution_count": null,
   "id": "2c17ce6a",
   "metadata": {
    "id": "2c17ce6a"
   },
   "outputs": [],
   "source": [
    "def num_of_months(row):\n",
    "    \"\"\"\n",
    "    Функция перевеодит формат данных \"x лет y месяца(ев)\" в количество месяцев.\n",
    "    \n",
    "    Вход: строка series.\n",
    "    Выход: количество месяцев.\n",
    "    \"\"\"\n",
    "    if pd.notnull(row) and row != 'no_data':\n",
    "        list_ownership = row.split()  # разделяем строку на список из месяца и лет\n",
    "        if len(list_ownership) == 2:  # если содержится информация только про годы\n",
    "            if list_ownership[1] in ['год', 'года', 'лет']:\n",
    "                return int(list_ownership[0])*12\n",
    "            return int(list_ownership[0])  # переводим год в месяцы\n",
    "        # случай, когда содержится инфо только про месяц\n",
    "        # прибавляем к годам*12 количетсво месяцев\n",
    "        return int(list_ownership[0])*12 + int(list_ownership[3])"
   ]
  },
  {
   "cell_type": "code",
   "execution_count": null,
   "id": "bd5944c2",
   "metadata": {
    "id": "bd5944c2"
   },
   "outputs": [],
   "source": [
    "def get_boxplot(column):\n",
    "    \"\"\"\n",
    "    Функция для отрисовки коробочной диаграммы для нечисловых признаков.\n",
    "    \n",
    "    На вход получаем колоноку, для которой строим график.\n",
    "    График отрисовываем относительно целевой переменной pricing, ограниченной по квантилю.\n",
    "    \"\"\"\n",
    "    fig, ax = plt.subplots(figsize=(25, 5))\n",
    "    plt.subplots_adjust(wspace=0.5)\n",
    "    sns.boxplot(x=column, y='price',\n",
    "                data=data[data['train'] == 1],\n",
    "                ax=ax)\n",
    "    plt.xticks(rotation=45)\n",
    "    # поскольку в price много выбросов, огриничимся 75% квантилем\n",
    "    ax.set_ylim(0, (data.price.quantile(0.75) + 8 *\n",
    "                    (data.price.quantile(0.75) - data.price.quantile(0.25))))\n",
    "    ax.set_title('Boxplot для ' + column)\n",
    "    plt.show()"
   ]
  },
  {
   "cell_type": "code",
   "execution_count": null,
   "id": "b698c1b5",
   "metadata": {
    "id": "b698c1b5"
   },
   "outputs": [],
   "source": [
    "def analyze_cat_cols(col):\n",
    "    \"\"\"\n",
    "    Функция для анализа категориального признака.\n",
    "    \n",
    "    На вход получаем колонку, для которой проводим анализ.\n",
    "    \n",
    "    В результате выводи графики:\n",
    "        1. Распределение количества объявлений по признаку.\n",
    "            Дополнительно, выводится график (прямая) возможного среднего количетсва объявлений по всем категориям признака, чтобы сравнить, насколько\n",
    "            отклоняется от среднего та или иная категория признака.\n",
    "        2. График боксплот для признака/целевой переменной (цены).\n",
    "    \"\"\"\n",
    "    fig, axes = plt.subplots(figsize=(25, 5))\n",
    "    # Посчитаем среднее значение количества объявлений по всем категориям признака\n",
    "    mean = data[col].value_counts().values.mean()\n",
    "    x = data[col].unique()\n",
    "    # Построим графики по признаку и для среднего\n",
    "    sns.histplot(data=data, x=data[col],\n",
    "                 stat='count', bins=data[col].nunique())\n",
    "    axes.plot(x, [mean for i in x], '--', color='r')\n",
    "    plt.xticks(rotation=45)\n",
    "    plt.title('Распределение количества объясвлений по '+col)\n",
    "    plt.show()\n",
    "    \n",
    "    # Строим боксплот\n",
    "    get_boxplot(col)"
   ]
  },
  {
   "cell_type": "code",
   "execution_count": null,
   "id": "5fdb8974",
   "metadata": {
    "id": "5fdb8974"
   },
   "outputs": [],
   "source": [
    "def km_per_year(row):\n",
    "    \"\"\"\n",
    "    Функция делает пересчет км пробега автомобиля в год. \n",
    "    Для расчета количества лет использование берется год производства автомобиля.\n",
    "    \n",
    "    Вход: строка датафрейма.\n",
    "    Выход: информация о км/год.\n",
    "    \"\"\"\n",
    "    if row['mileage'] != 0:\n",
    "        # обрабатываем случаи, когда мошина произведена в год сбора данных, чтоб не делить на 0\n",
    "        if row['parsing_date'].year - row['productionDate'] == 0:\n",
    "            return row['mileage']\n",
    "        else:\n",
    "            return row['mileage']/(row['parsing_date'].year - row['productionDate'])\n",
    "    return 0  # возвращаем 0, если машина без пробега (новая)"
   ]
  },
  {
   "cell_type": "code",
   "execution_count": null,
   "id": "2ba93733",
   "metadata": {
    "id": "2ba93733"
   },
   "outputs": [],
   "source": [
    "def prod_date_range(row, year_lim):\n",
    "    \"\"\"\n",
    "    Функция для создания столбца с информацией, старше ли авто, чем year_lim.\n",
    "    Вход: строка, установленный лимит.\n",
    "    Выход: \n",
    "        1 - если авто старше\n",
    "        0 - если нет.\n",
    "    \"\"\"\n",
    "    if (row['parsing_date'].year-row['productionDate']) >= year_lim:\n",
    "        return 1\n",
    "    return 0"
   ]
  },
  {
   "cell_type": "code",
   "execution_count": null,
   "id": "422a56ad",
   "metadata": {
    "id": "422a56ad"
   },
   "outputs": [],
   "source": [
    "def iqr_analysis(series, mode=False):\n",
    "    \"\"\"\n",
    "    Функция выводит инфорамцию о границах выборосов для признака.\n",
    "    Если mode = True, возвращается верхняя и нижняя границы выбросов. Иначе, просто выводится информация на экран.\n",
    "    \"\"\"\n",
    "    IQR = series.quantile(0.75) - series.quantile(0.25)\n",
    "    perc25 = series.quantile(0.25)\n",
    "    perc75 = series.quantile(0.75)\n",
    "\n",
    "    f = perc25 - 1.5*IQR\n",
    "    l = perc75 + 1.5*IQR\n",
    "\n",
    "    if mode:\n",
    "        return f, l\n",
    "\n",
    "    print(\n",
    "        \"\\n25-й перцентиль: {},\".format(perc25),\n",
    "        \"\\n75-й перцентиль: {},\".format(perc75),\n",
    "        \"\\nIQR: {}, \".format(IQR),\n",
    "        \"\\nГраницы выбросов: [{f}, {l}].\".format(\n",
    "            f=perc25 - 1.5*IQR, l=perc75 + 1.5*IQR),\n",
    "        \"\\n\\nМинимальное значение признака: {}.\".format(series.min()),\n",
    "        \"\\nМаксимальное значение признака: {} .\\n\".format(series.max()))\n",
    "\n",
    "    if series.min() < f:\n",
    "        print(\"Найдены выбросы по нижней границе признака! Количество: {}, {}%\".format(series.where(\n",
    "            series < f).count(), round(series.where(series < f).count()/series.count()*100, 2)))\n",
    "    if series.max() > l:\n",
    "        print(\"Найдены выбросы по верхней границе признака! Количество: {}, {}%\".format(series.where(\n",
    "            series > l).count(), round(series.where(series > l).count()/series.count()*100, 2)))"
   ]
  },
  {
   "cell_type": "code",
   "execution_count": null,
   "id": "0ab62193",
   "metadata": {
    "id": "0ab62193"
   },
   "outputs": [],
   "source": [
    "def get_stat_dif(column):\n",
    "    \"\"\" \n",
    "    Поиск статистически значимых различий для колонки с помощью теста Стьюдента.\n",
    "    \"\"\"\n",
    "    cols = data.loc[:, column].value_counts().index[:]\n",
    "    combinations_all = list(combinations(cols, 2))\n",
    "\n",
    "    tmp = data[data['train'] == 1]\n",
    "\n",
    "    for comb in combinations_all:\n",
    "        if ttest_ind(tmp.loc[data[data['train'] == 1].loc[:, column] == comb[0], 'price'],\n",
    "                     tmp.loc[data[data['train'] == 1].loc[:, column] == comb[1], 'price']).pvalue <= 0.05/len(combinations_all):  # учли поправку Бонферони\n",
    "            # print('Найдены статистически значимые различия для колонки и комбинаций', column, comb)\n",
    "            pass\n",
    "        else:\n",
    "            print(\n",
    "                'Не найдены статистически значимые различия для колонки и комбинации', column, comb)\n",
    "            return column\n",
    "            break"
   ]
  },
  {
   "cell_type": "code",
   "execution_count": null,
   "id": "we6nqo4UvQyK",
   "metadata": {
    "id": "we6nqo4UvQyK"
   },
   "outputs": [],
   "source": [
    "def regularise(X_train, y_train):\n",
    "    \"\"\" \n",
    "    Подбор параметров GradientBoosting.\n",
    "    \"\"\"\n",
    "    max_depth = [5, 10, 15]\n",
    "    n_estimators = [100, 200,1000]\n",
    "    hyperparameters = dict(max_depth=max_depth, n_estimators=n_estimators)\n",
    "    model = GradientBoostingRegressor()\n",
    "    model.fit(X_train, y_train)\n",
    "\n",
    "    clf = GridSearchCV(model, hyperparameters)\n",
    "\n",
    "    best_model = clf.fit(X_train, y_train)\n",
    "\n",
    "    best_max_depth = best_model.best_estimator_.get_params()['max_depth']\n",
    "    best_n_estimators = best_model.best_estimator_.get_params()['n_estimators']\n",
    "\n",
    "    return best_max_depth, best_n_estimators"
   ]
  },
  {
   "cell_type": "code",
   "execution_count": null,
   "id": "qoU5GxjkwjaX",
   "metadata": {
    "id": "qoU5GxjkwjaX"
   },
   "outputs": [],
   "source": [
    "def compute_meta_feature(regr, X_train, X_test, y_train, cv):\n",
    "    \"\"\" \n",
    "    Вычисление метапризнаков Stacking.\n",
    "    \"\"\"\n",
    "    X_meta_train = np.zeros_like(y_train, dtype=np.float32)    \n",
    "    splits = cv.split(X_train)\n",
    "    for train_fold_index, predict_fold_index in splits:\n",
    "        X_fold_train, X_fold_predict = X_train[train_fold_index], X_train[predict_fold_index]\n",
    "        y_fold_train = y_train[train_fold_index]\n",
    "        \n",
    "        folded_regr = clone(regr)\n",
    "        folded_regr.fit(X_fold_train, y_fold_train)\n",
    "        \n",
    "        X_meta_train[predict_fold_index] = folded_regr.predict(X_fold_predict)\n",
    "        \n",
    "    meta_regr = clone(regr)\n",
    "    meta_regr.fit(X_train, y_train)\n",
    "\n",
    "    X_meta_test = meta_regr.predict(X_test)\n",
    "\n",
    "    return X_meta_train, X_meta_test\n",
    "\n",
    "def generate_meta_features(regr, X_train, X_test, y_train, cv):\n",
    "    \"\"\" \n",
    "    Генерация метапризнаков Stacking.\n",
    "    \"\"\"\n",
    "    features = [compute_meta_feature(regr, X_train, X_test, y_train, cv) for regr in tqdm(regr)]    \n",
    "    stacked_features_train = np.vstack([features_train for features_train, features_test in features]).T\n",
    "    stacked_features_test = np.vstack([features_test for features_train, features_test in features]).T\n",
    "    return stacked_features_train, stacked_features_test\n"
   ]
  },
  {
   "cell_type": "markdown",
   "id": "06afc679",
   "metadata": {
    "id": "06afc679"
   },
   "source": [
    "## Setup"
   ]
  },
  {
   "cell_type": "code",
   "execution_count": null,
   "id": "3cfe9110",
   "metadata": {
    "id": "3cfe9110"
   },
   "outputs": [],
   "source": [
    "VERSION = 17\n",
    "# подключил к ноутбуку внешний датасет\n",
    "#DIR_TRAIN = '../input/parsing-all-moscow-auto-ru-09-09-2020/'\n",
    "#DIR_TRAIN_NEW = '../input/autorucars/'\n",
    "#DIR_TEST = '../input/sf-dst-car-price-prediction/'\n",
    "VAL_SIZE = 0.20   # 20%"
   ]
  },
  {
   "cell_type": "markdown",
   "id": "a7689263",
   "metadata": {
    "id": "a7689263"
   },
   "source": [
    "## 2. Импорт, обзор и очистка данных"
   ]
  },
  {
   "cell_type": "code",
   "execution_count": null,
   "id": "AtERHMfszGuv",
   "metadata": {
    "id": "AtERHMfszGuv"
   },
   "outputs": [],
   "source": [
    "# Подключение при работе в Jupyter/Github\n",
    "train = pd.read_csv('all_auto_ru_09_09_2020.csv')\n",
    "test = pd.read_csv('test.csv')\n",
    "sample_submission = pd.read_csv('sample_submission.csv')"
   ]
  },
  {
   "cell_type": "code",
   "execution_count": null,
   "id": "2a373261",
   "metadata": {
    "id": "2a373261"
   },
   "outputs": [],
   "source": [
    "#!ls '../input'"
   ]
  },
  {
   "cell_type": "code",
   "execution_count": null,
   "id": "090b7a9e",
   "metadata": {
    "id": "090b7a9e"
   },
   "outputs": [],
   "source": [
    "## Подключение с Kaggle\n",
    "#train = pd.read_csv(DIR_TRAIN+'all_auto_ru_09_09_2020.csv') # датасет для обучения модели\n",
    "#test = pd.read_csv(DIR_TEST+'test.csv')\n",
    "#sample_submission = pd.read_csv(DIR_TEST+'sample_submission.csv')"
   ]
  },
  {
   "cell_type": "code",
   "execution_count": null,
   "id": "368418a8",
   "metadata": {
    "id": "368418a8"
   },
   "outputs": [],
   "source": [
    "# Подключение при работе в Jupyter/Github\n",
    "#train = pd.read_csv('all_auto_ru_09_09_2020.csv')\n",
    "#test = pd.read_csv('test.csv')\n",
    "#sample_submission = pd.read_csv('sample_submission.csv')"
   ]
  },
  {
   "cell_type": "code",
   "execution_count": null,
   "id": "3c75d216",
   "metadata": {
    "colab": {
     "base_uri": "https://localhost:8080/",
     "height": 617
    },
    "id": "3c75d216",
    "outputId": "ce277b36-40d9-476d-f8d1-37d68ade05d2"
   },
   "outputs": [],
   "source": [
    "print('Размерность тренировочного датасета: ', train.shape)\n",
    "display(train.head(2))\n",
    "print('Размерность тестового датасета: ', test.shape)\n",
    "display(test.head(2))\n",
    "print('Размерность тестового submission: ', sample_submission.shape)\n",
    "display(sample_submission.head(2))"
   ]
  },
  {
   "cell_type": "code",
   "execution_count": null,
   "id": "762fd5a6",
   "metadata": {
    "colab": {
     "base_uri": "https://localhost:8080/",
     "height": 1000
    },
    "id": "762fd5a6",
    "outputId": "5ead81dc-2817-47c7-f45e-2d1b423415f2"
   },
   "outputs": [],
   "source": [
    "display(train.info())\n",
    "display(test.info())"
   ]
  },
  {
   "cell_type": "code",
   "execution_count": null,
   "id": "890c83ca",
   "metadata": {
    "id": "890c83ca"
   },
   "outputs": [],
   "source": [
    "# Переименуем test колонки\n",
    "test.rename(columns={\"Привод\": \"drivetrain\",\n",
    "                     \"Руль\": \"driveSide\",\n",
    "                     \"Состояние\": \"condition\",\n",
    "                     \"Владельцы\": \"ownersCount\",\n",
    "                     \"ПТС\": \"tcp\",\n",
    "                     \"Таможня\": \"customs\",\n",
    "                     \"Владение\": \"ownershipTime\",\n",
    "                     \"model_name\": \"model\"}, inplace=True)\n",
    "\n",
    "# Переименуем train колонки\n",
    "train.rename(columns={\"Привод\": \"drivetrain\",\n",
    "                      \"Руль\": \"driveSide\",\n",
    "                      \"Состояние\": \"condition\",\n",
    "                      \"Владельцы\": \"ownersCount\",\n",
    "                      \"ПТС\": \"tcp\",\n",
    "                      \"Таможня\": \"customs\",\n",
    "                      \"Владение\": \"ownershipTime\"}, inplace=True)"
   ]
  },
  {
   "cell_type": "markdown",
   "id": "fa84cceb",
   "metadata": {
    "id": "fa84cceb"
   },
   "source": [
    "Предварительный анализ test данных\n",
    "Посмотрим на данные в test, которые нужно предсказывать, на особенности данных."
   ]
  },
  {
   "cell_type": "code",
   "execution_count": null,
   "id": "2e2a3ea1",
   "metadata": {
    "id": "2e2a3ea1"
   },
   "outputs": [],
   "source": [
    "#ProfileReport(test, title=\"Pandas Profiling Report for Test Dataset\")"
   ]
  },
  {
   "cell_type": "markdown",
   "id": "29320d5f",
   "metadata": {
    "id": "29320d5f"
   },
   "source": [
    "Выводы: во время последующего сбора данных и анализа обратить внимание на:\n",
    "\n",
    "Есть пропуски в test данных - нужно попробовать заполнить\n",
    "Представлено всего 12 брендов автомобилей\n",
    "Признаки, которые выглядят бесполезными для моделирования - car_url (уникальный для каждой записи), priceCurrencly (одинаковый у всех)\n",
    "Необходимо разобраться с признаками complectation_dict, description, equipment_dict, model_info, super_gen - посмотреть, можно ли извлечь доп. признаки\n",
    "Condition - у всех \"хорошее состояние\", обратить внимание, если в train будут записи и другим состоянием, может влиять на выбросы по цене.\n",
    "Customs - у всех \"растоможетн\", обратить внимание, если в train будут записи и другим состоянием, может влиять на выбросы по цене."
   ]
  },
  {
   "cell_type": "markdown",
   "id": "5455fb24",
   "metadata": {
    "id": "5455fb24"
   },
   "source": [
    "Сравним типы данных в test и train.\n",
    "Найдем расхождения в типах данных для train и test, устраним их до анализа данных."
   ]
  },
  {
   "cell_type": "code",
   "execution_count": null,
   "id": "9238cd5e",
   "metadata": {
    "id": "9238cd5e"
   },
   "outputs": [],
   "source": [
    "# Создадим список с колонками, которые присутствуют и в train, и в test\n",
    "cols_intersection = list(set(test.columns).intersection(train.columns))"
   ]
  },
  {
   "cell_type": "code",
   "execution_count": null,
   "id": "6e5536e4",
   "metadata": {
    "colab": {
     "base_uri": "https://localhost:8080/"
    },
    "id": "6e5536e4",
    "outputId": "f0da3d1a-fef0-4b14-bc07-ef63d0c3b36c"
   },
   "outputs": [],
   "source": [
    "# Проверим, в каких колонках типы данных различаются у train и test\n",
    "cols_type_dif = []  # создаем список с колонками, в которых типы данных отличаются\n",
    "print(\"Найдены расхождения в типах данных для:\")\n",
    "\n",
    "for col in cols_intersection:\n",
    "    if type(test[col][0]) != type(train[col][0]):\n",
    "        print(\n",
    "            f\"\\t- колонки {col}: для train - {type(train[col][0])}, для test - {type(test[col][0])}\")\n",
    "        cols_type_dif.append(col)"
   ]
  },
  {
   "cell_type": "markdown",
   "id": "96deb4c6",
   "metadata": {
    "id": "96deb4c6"
   },
   "source": [
    "#### ownersCount\n",
    "\n",
    "Количество владельцев автомобиля (1 - один, 2 - два, 3 - 3 и более)."
   ]
  },
  {
   "cell_type": "code",
   "execution_count": null,
   "id": "11d661f7",
   "metadata": {
    "colab": {
     "base_uri": "https://localhost:8080/"
    },
    "id": "11d661f7",
    "outputId": "7faaaffc-cec4-44de-8878-26b272e16d3a"
   },
   "outputs": [],
   "source": [
    "print(\"Уникальные значения для train\", train.ownersCount.unique())\n",
    "print(\"Уникальные значения для test\", test.ownersCount.unique())"
   ]
  },
  {
   "cell_type": "markdown",
   "id": "3aa42b9d",
   "metadata": {
    "id": "3aa42b9d"
   },
   "source": [
    "Преобразуем значения test в числовые (float)."
   ]
  },
  {
   "cell_type": "code",
   "execution_count": null,
   "id": "OhOuknRWoIar",
   "metadata": {
    "id": "OhOuknRWoIar"
   },
   "outputs": [],
   "source": [
    "# Создаем словать с кодировкой значений в числовые\n",
    "ownersCount_dict = {\"3 или более\": 3.,\n",
    "                    \"1\\xa0владелец\": 1., \"2\\xa0владельца\": 2.}\n",
    "test['ownersCount'].replace(\n",
    "    to_replace=ownersCount_dict, inplace=True)  # заменяем значения в соответствии со словарем"
   ]
  },
  {
   "cell_type": "code",
   "execution_count": null,
   "id": "lf05wz-boUDh",
   "metadata": {
    "colab": {
     "base_uri": "https://localhost:8080/"
    },
    "id": "lf05wz-boUDh",
    "outputId": "c77fba7d-9fb1-43d9-9fbd-7479ca540ce3"
   },
   "outputs": [],
   "source": [
    "# Проверяем результаты преобразования\n",
    "print(\"Уникальные значения для test\", test.ownersCount.unique())\n",
    "print(\"Уникальные значения для train\", train.ownersCount.unique())"
   ]
  },
  {
   "cell_type": "markdown",
   "id": "5mBqmxyjoevW",
   "metadata": {
    "id": "5mBqmxyjoevW"
   },
   "source": [
    "#### enginePower\n",
    "\n",
    "Мощность л.с."
   ]
  },
  {
   "cell_type": "code",
   "execution_count": null,
   "id": "2SSbQS_6ofhH",
   "metadata": {
    "colab": {
     "base_uri": "https://localhost:8080/"
    },
    "id": "2SSbQS_6ofhH",
    "outputId": "a5f3b3fc-d2e6-4ae7-c8f8-60930f71e872"
   },
   "outputs": [],
   "source": [
    "print(\"Пример значения для train\", train.enginePower.sample().values)\n",
    "print(\"Пример значения для test\", test.enginePower.sample().values)"
   ]
  },
  {
   "cell_type": "markdown",
   "id": "Fm0Nzknzomsk",
   "metadata": {
    "id": "Fm0Nzknzomsk"
   },
   "source": [
    "Преобразуем значения test в числовые (float)."
   ]
  },
  {
   "cell_type": "code",
   "execution_count": null,
   "id": "6stg6fHzongJ",
   "metadata": {
    "id": "6stg6fHzongJ"
   },
   "outputs": [],
   "source": [
    "# Преобразовываем значения столбца, избавляемся от постфика N12\n",
    "test['enginePower'] = test['enginePower'].apply(\n",
    "    lambda x: float(str(x).split(\" \")[0]))"
   ]
  },
  {
   "cell_type": "code",
   "execution_count": null,
   "id": "U5-wTEU4oq4A",
   "metadata": {
    "colab": {
     "base_uri": "https://localhost:8080/"
    },
    "id": "U5-wTEU4oq4A",
    "outputId": "45f018a8-7eee-4155-a57d-7f515298ae8f"
   },
   "outputs": [],
   "source": [
    "# Посмотрим на результат преобразования\n",
    "print(\"Пример значения для test\", test.enginePower.sample(1).values)\n",
    "print(\"Пример значения для train\", train.enginePower.sample(1).values)"
   ]
  },
  {
   "cell_type": "markdown",
   "id": "9RIw7hoNot7l",
   "metadata": {
    "id": "9RIw7hoNot7l"
   },
   "source": [
    "#### numberOfDoors\n",
    "\n",
    "Количество дверей."
   ]
  },
  {
   "cell_type": "code",
   "execution_count": null,
   "id": "lGgeJi9movMB",
   "metadata": {
    "colab": {
     "base_uri": "https://localhost:8080/"
    },
    "id": "lGgeJi9movMB",
    "outputId": "aa94e76b-4b54-40fc-bc37-f6ebe83f2a87"
   },
   "outputs": [],
   "source": [
    "print(\"Уникальные значения для train\", train.numberOfDoors.unique())\n",
    "print(\"Уникальные значения для test\", test.numberOfDoors.unique())"
   ]
  },
  {
   "cell_type": "code",
   "execution_count": null,
   "id": "jKzuO2SToyBw",
   "metadata": {
    "id": "jKzuO2SToyBw"
   },
   "outputs": [],
   "source": [
    "# Конвертируем значения train в int\n",
    "train['numberOfDoors'] = train['numberOfDoors'].astype('Int64')"
   ]
  },
  {
   "cell_type": "markdown",
   "id": "GQih72cfo1vk",
   "metadata": {
    "id": "GQih72cfo1vk"
   },
   "source": [
    "#### customs\n",
    "\n",
    "Информация, растоможен ли автомобиль: 0 - не растоможен, 1 - растоможен."
   ]
  },
  {
   "cell_type": "code",
   "execution_count": null,
   "id": "1NElyqnso2vR",
   "metadata": {
    "colab": {
     "base_uri": "https://localhost:8080/"
    },
    "id": "1NElyqnso2vR",
    "outputId": "4d3d4ccd-655c-4589-ba26-f65654875a6e"
   },
   "outputs": [],
   "source": [
    "print(\"Уникальные значения для train\", train.customs.unique())\n",
    "print(\"Уникальные значения для test\", test.customs.unique())"
   ]
  },
  {
   "cell_type": "markdown",
   "id": "ElSp-D-2o6D0",
   "metadata": {
    "id": "ElSp-D-2o6D0"
   },
   "source": [
    "Поскольку далее для моделирования нам понадобится числовая переменная, то сразу переведем в числовую 0 - не растоможен, 1 - растоможен, как для train, так и для test."
   ]
  },
  {
   "cell_type": "code",
   "execution_count": null,
   "id": "Cqr4PJ1qo7N5",
   "metadata": {
    "id": "Cqr4PJ1qo7N5"
   },
   "outputs": [],
   "source": [
    "# Делаем преобразование значений в int (0 или 1)\n",
    "train['customs'] = train['customs'].apply(lambda x: 1 if x == True else 0)\n",
    "test['customs'] = test['customs'].apply(\n",
    "    lambda x: 1 if x == \"Растаможен\" else 0)"
   ]
  },
  {
   "cell_type": "markdown",
   "id": "RcpoKfBQo_Wy",
   "metadata": {
    "id": "RcpoKfBQo_Wy"
   },
   "source": [
    "#### condition\n",
    "\n",
    "Состояние автомобиля: 0 - не требует ремонта , 1 - требует ремонта."
   ]
  },
  {
   "cell_type": "code",
   "execution_count": null,
   "id": "URziYy4tpAIX",
   "metadata": {
    "colab": {
     "base_uri": "https://localhost:8080/"
    },
    "id": "URziYy4tpAIX",
    "outputId": "95dfda8a-686c-4c47-dea3-4ccf1cc7de13"
   },
   "outputs": [],
   "source": [
    "print(\"Уникальные значения для train\", train.condition.unique())\n",
    "print(\"Уникальные значения для test\", test.condition.unique())"
   ]
  },
  {
   "cell_type": "markdown",
   "id": "nZ6Sdq9kpDnh",
   "metadata": {
    "id": "nZ6Sdq9kpDnh"
   },
   "source": [
    "Поскольку далее для моделирования нам понадобится числовая переменная, то сразу проведем преобразование как для train, так и для test."
   ]
  },
  {
   "cell_type": "code",
   "execution_count": null,
   "id": "6oJt_3LDpESq",
   "metadata": {
    "id": "6oJt_3LDpESq"
   },
   "outputs": [],
   "source": [
    "# Делаем преобразование значений в int (0 или 1)\n",
    "train['condition'] = train['condition'].apply(lambda x: 0 if pd.isna(x) else 1)\n",
    "test['condition'] = test['condition'].apply(\n",
    "    lambda x: 0 if x == \"Не требует ремонта\" else 1)"
   ]
  },
  {
   "cell_type": "markdown",
   "id": "rCIcMH2opHkO",
   "metadata": {
    "id": "rCIcMH2opHkO"
   },
   "source": [
    "#### modelDate\n",
    "\n",
    "Год выпуска модели автомобиля."
   ]
  },
  {
   "cell_type": "code",
   "execution_count": null,
   "id": "YHiwWa25pIMh",
   "metadata": {
    "colab": {
     "base_uri": "https://localhost:8080/"
    },
    "id": "YHiwWa25pIMh",
    "outputId": "c8731d59-7496-4515-c718-ab40c91e4ec4"
   },
   "outputs": [],
   "source": [
    "print(\"Уникальные значения для train\", train.modelDate.unique())\n",
    "print(\"Уникальные значения для test\", test.modelDate.unique())"
   ]
  },
  {
   "cell_type": "markdown",
   "id": "uV-Op00FpLZH",
   "metadata": {
    "id": "uV-Op00FpLZH"
   },
   "source": [
    "Годы - целые числа. Преобразуем train данные в int."
   ]
  },
  {
   "cell_type": "code",
   "execution_count": null,
   "id": "2_ObSDCBpMBa",
   "metadata": {
    "id": "2_ObSDCBpMBa"
   },
   "outputs": [],
   "source": [
    "train['modelDate'] = train['modelDate'].astype('Int64')"
   ]
  },
  {
   "cell_type": "markdown",
   "id": "miNoo8vZpOWC",
   "metadata": {
    "id": "miNoo8vZpOWC"
   },
   "source": [
    "#### ownershipTime \n",
    "\n",
    "Вемя владения автомобилем. Формат хранения информации в train и test отличается."
   ]
  },
  {
   "cell_type": "code",
   "execution_count": null,
   "id": "aFfwmmEPpQ-X",
   "metadata": {
    "id": "aFfwmmEPpQ-X"
   },
   "outputs": [],
   "source": [
    "# Применяем функцию по очистке данных и приведению train к такому же виду, как в test выборке.\n",
    "train['ownershipTime'] = train['ownershipTime'].apply(tenure)"
   ]
  },
  {
   "cell_type": "code",
   "execution_count": null,
   "id": "yEPtUbmWpT92",
   "metadata": {
    "id": "yEPtUbmWpT92"
   },
   "outputs": [],
   "source": [
    "# Заполним пропуски в train выборке значениями 'no_data'.\n",
    "train['ownershipTime'] = train['ownershipTime'].fillna('no_data')"
   ]
  },
  {
   "cell_type": "markdown",
   "id": "clsvpF5hpVri",
   "metadata": {
    "id": "clsvpF5hpVri"
   },
   "source": [
    "#### mileage\n",
    "\n",
    "Пробег"
   ]
  },
  {
   "cell_type": "code",
   "execution_count": null,
   "id": "8PUwPuCYpYjX",
   "metadata": {
    "colab": {
     "base_uri": "https://localhost:8080/"
    },
    "id": "8PUwPuCYpYjX",
    "outputId": "5c2b21fa-4092-4c8a-ea7f-40a750e90a41"
   },
   "outputs": [],
   "source": [
    "print(\"Пример значения для train\",\n",
    "      train[train['mileage'].isnull() == False]['mileage'].sample(1).values)\n",
    "print(\"Пример значения для test\",\n",
    "      test[test['mileage'].isnull() == False]['mileage'].sample(1).values)"
   ]
  },
  {
   "cell_type": "markdown",
   "id": "ntyWOsd_pb6J",
   "metadata": {
    "id": "ntyWOsd_pb6J"
   },
   "source": [
    "#### engineDisplacement\n",
    "\n",
    "Объем двигателя в литрах, нужно привести к общему формату во всех датасетах."
   ]
  },
  {
   "cell_type": "code",
   "execution_count": null,
   "id": "ntV64C8Lpcrx",
   "metadata": {
    "colab": {
     "base_uri": "https://localhost:8080/"
    },
    "id": "ntV64C8Lpcrx",
    "outputId": "7b19bcd3-580a-402a-b970-89c8a02e94d9"
   },
   "outputs": [],
   "source": [
    "print(\"Пример значения для train\", train[train['engineDisplacement'].isnull(\n",
    ") == False]['engineDisplacement'].sample(1).values)\n",
    "print(\"Пример значения для test\", test[test['engineDisplacement'].isnull(\n",
    ") == False]['engineDisplacement'].sample(1).values)"
   ]
  },
  {
   "cell_type": "markdown",
   "id": "mZpBBXVApgUO",
   "metadata": {
    "id": "mZpBBXVApgUO"
   },
   "source": [
    "Избавимся от LTR в наименовании объема двигателя и конвертируем во float."
   ]
  },
  {
   "cell_type": "code",
   "execution_count": null,
   "id": "Y83krxIephA8",
   "metadata": {
    "id": "Y83krxIephA8"
   },
   "outputs": [],
   "source": [
    "# Сконвертируем информацию об объёме двигателя из поля name\n",
    "train['engineDisplacement'] = train['name'].apply(\n",
    "    convert_engineDisplacement_to_float)"
   ]
  },
  {
   "cell_type": "code",
   "execution_count": null,
   "id": "NG1w_H9_pkKB",
   "metadata": {
    "colab": {
     "base_uri": "https://localhost:8080/"
    },
    "id": "NG1w_H9_pkKB",
    "outputId": "d0e1687c-0929-4210-bf79-375f2d3acf6b"
   },
   "outputs": [],
   "source": [
    "# Сразу проверим пропуски\n",
    "len(train[train['engineDisplacement'].isna()])"
   ]
  },
  {
   "cell_type": "code",
   "execution_count": null,
   "id": "7KwdlPf8pmLs",
   "metadata": {
    "colab": {
     "base_uri": "https://localhost:8080/"
    },
    "id": "7KwdlPf8pmLs",
    "outputId": "17712d15-e2c6-4644-fb9a-03533b72d655"
   },
   "outputs": [],
   "source": [
    "# Пропуски для электро машин, понятно причина пропуска, обработаем позже\n",
    "train[train['engineDisplacement'].isna()].fuelType.unique()"
   ]
  },
  {
   "cell_type": "code",
   "execution_count": null,
   "id": "PhFuapPmpn7o",
   "metadata": {
    "id": "PhFuapPmpn7o"
   },
   "outputs": [],
   "source": [
    "# Для 'LTR' значения в test заменим на 0, т.к. это электрокары\n",
    "test[test['engineDisplacement'] == ' LTR']['engineDisplacement'].replace(\n",
    "    \" LTR\", \"0.0 LTR\", inplace=True)\n",
    "# Сконвертируем информацию во float\n",
    "test['engineDisplacement'] = test['engineDisplacement'].apply(\n",
    "    convert_engineDisplacement_to_float)"
   ]
  },
  {
   "cell_type": "markdown",
   "id": "7zzmr1axp0Bl",
   "metadata": {
    "id": "7zzmr1axp0Bl"
   },
   "source": [
    "### Совмещаем test, train для обработки и анализа"
   ]
  },
  {
   "cell_type": "markdown",
   "id": "lhGBJ2V_p05h",
   "metadata": {
    "id": "lhGBJ2V_p05h"
   },
   "source": [
    "До совмещения test и train посмотрим, какие признаки можем извлечь из test/train, помимо колонок, которые в явном виде пересекаются между датафреймами."
   ]
  },
  {
   "cell_type": "code",
   "execution_count": null,
   "id": "zQatx4gdp3hi",
   "metadata": {
    "colab": {
     "base_uri": "https://localhost:8080/",
     "height": 285
    },
    "id": "zQatx4gdp3hi",
    "outputId": "d77f1434-e35a-4eae-f431-59cb31d69b30"
   },
   "outputs": [],
   "source": [
    "# Список колонок, которых нет в train, но есть в test\n",
    "dif_list_test = list(set(test.columns).difference(train.columns))\n",
    "print(\"Список колонок, которых нет в train, но есть в test:\", dif_list_test)\n",
    "\n",
    "# Посмотрим на данные в этих колонках\n",
    "print(\"\\nTEST DF:\")\n",
    "test[dif_list_test].sample(3)"
   ]
  },
  {
   "cell_type": "code",
   "execution_count": null,
   "id": "Eu8eD4nhp66z",
   "metadata": {
    "colab": {
     "base_uri": "https://localhost:8080/",
     "height": 195
    },
    "id": "Eu8eD4nhp66z",
    "outputId": "2f5a09bd-ad95-4297-d186-d4cf73362ff9"
   },
   "outputs": [],
   "source": [
    "# Список колонок, которых нет в test, но есть в train\n",
    "dif_list_train = list(set(train.columns).difference(test.columns))\n",
    "print(\"Список колонок, которых нет в test, но есть в train:\", dif_list_train)\n",
    "\n",
    "# Посмотрим на данные в этих колонках\n",
    "print(\"\\nTRAIN DF:\")\n",
    "train[dif_list_train].sample(3)"
   ]
  },
  {
   "cell_type": "markdown",
   "id": "x9TQIb0xp9q0",
   "metadata": {
    "id": "x9TQIb0xp9q0"
   },
   "source": [
    "Идеи для обогощений датасетов, чтобы получить общие данные для работы:\n",
    "\n",
    "[x] Train: добавить колонку vendor, можно создать словарик соответсвия brand-vendor\n",
    "[x] All: поскольку все данные парсились в разное время, то добавим колонку parsing_date для всех датафреймов.\n",
    "В признаках super_gen и equipment_dict лежит информация о характеристиках и комплектации автомобиля, частично дублирующая информацию остальных признаков."
   ]
  },
  {
   "cell_type": "markdown",
   "id": "dsdxtjoZqBM1",
   "metadata": {
    "id": "dsdxtjoZqBM1"
   },
   "source": [
    "#### Добавляем vendor в train"
   ]
  },
  {
   "cell_type": "code",
   "execution_count": null,
   "id": "My6X04_8qCOB",
   "metadata": {
    "colab": {
     "base_uri": "https://localhost:8080/"
    },
    "id": "My6X04_8qCOB",
    "outputId": "fe1013fd-1640-44da-86c0-c3619a3cfa2a"
   },
   "outputs": [],
   "source": [
    "# Создаем словарь из вендоров по брендам\n",
    "vendor_dict = test.groupby(['vendor'])['brand'].apply(\n",
    "    lambda grp: list(grp.value_counts().index)).to_dict()\n",
    "vendor_dict"
   ]
  },
  {
   "cell_type": "code",
   "execution_count": null,
   "id": "v3D-pYk9qFRA",
   "metadata": {
    "colab": {
     "base_uri": "https://localhost:8080/"
    },
    "id": "v3D-pYk9qFRA",
    "outputId": "f31c3f0c-628b-4554-8bc1-dce635c6a3ad"
   },
   "outputs": [],
   "source": [
    "# Список брендов, которых нет в test, но есть в train\n",
    "dif_list_brands = list(\n",
    "    set(train.brand.unique()).difference(test.brand.unique()))\n",
    "print(\"Список колонок, которых нет в test, но есть в train:\", dif_list_brands)"
   ]
  },
  {
   "cell_type": "code",
   "execution_count": null,
   "id": "RKwkiBpFqIR5",
   "metadata": {
    "id": "RKwkiBpFqIR5"
   },
   "outputs": [],
   "source": [
    "# Добавим в словарь vendor_dict недостающие бренды по существующим ключам\n",
    "eur_append = ['PORSCHE', 'LAND_ROVER', 'JAGUAR',\n",
    "              'MINI', 'RENAULT', 'OPEL', 'PEUGEOT', 'CITROEN', 'FERRARI', 'FIAT', 'SMART', 'AURUS']\n",
    "jap_append = ['SUBARU', 'MAZDA', 'SUZUKI']\n",
    "\n",
    "for brand in eur_append:\n",
    "    vendor_dict['EUROPEAN'].append(brand)\n",
    "for brand in jap_append:\n",
    "    vendor_dict['JAPANESE'].append(brand)"
   ]
  },
  {
   "cell_type": "code",
   "execution_count": null,
   "id": "W1DdGnI1qK2R",
   "metadata": {
    "id": "W1DdGnI1qK2R"
   },
   "outputs": [],
   "source": [
    "# Добавляем новые ключи\n",
    "vendor_dict.update({'AMERICAN': ['CHEVROLET', 'CHRYSLER', 'CADILLAC', 'JEEP', 'FORD', 'DODGE', 'FISKER', 'TESLA'],\n",
    "                    'ASIAN': ['HYUNDAI', 'DAEWOO', 'KIA', 'CHERY', 'SSANG_YONG', 'GEELY', 'GREAT_WALL', 'ACURA',\n",
    "                             'BYD', 'SUZUKI', 'XPENG']})"
   ]
  },
  {
   "cell_type": "code",
   "execution_count": null,
   "id": "ECHCcKA4qMfa",
   "metadata": {
    "colab": {
     "base_uri": "https://localhost:8080/"
    },
    "id": "ECHCcKA4qMfa",
    "outputId": "e6875d72-e90a-465d-da20-eb74fd11a1ea"
   },
   "outputs": [],
   "source": [
    "# Смотрим итоговый словарь\n",
    "print(vendor_dict)"
   ]
  },
  {
   "cell_type": "code",
   "execution_count": null,
   "id": "C4ODCVpLqOvh",
   "metadata": {
    "id": "C4ODCVpLqOvh"
   },
   "outputs": [],
   "source": [
    "# Создадим новый словарь для мапинга\n",
    "new_map = {str(x): str(k) for k, v in vendor_dict.items() for x in v}"
   ]
  },
  {
   "cell_type": "code",
   "execution_count": null,
   "id": "kGvOpC56qRAc",
   "metadata": {
    "id": "kGvOpC56qRAc"
   },
   "outputs": [],
   "source": [
    "# Создаем признак vendor в train\n",
    "train['vendor'] = train.brand.copy()\n",
    "train['vendor'] = train['vendor'].map(new_map)"
   ]
  },
  {
   "cell_type": "markdown",
   "id": "94DsWaIPqTQF",
   "metadata": {
    "id": "94DsWaIPqTQF"
   },
   "source": [
    "#### Добавляем parsing_date во все датасеты"
   ]
  },
  {
   "cell_type": "code",
   "execution_count": null,
   "id": "Rplf9fATqTz9",
   "metadata": {
    "id": "Rplf9fATqTz9"
   },
   "outputs": [],
   "source": [
    "# Добавляем фиксированную дату в train, берем признак из имени файла (09.09.2020)\n",
    "train['parsing_date'] = '2020-09-09'\n",
    "train['parsing_date'] = pd.to_datetime(train['parsing_date'])"
   ]
  },
  {
   "cell_type": "code",
   "execution_count": null,
   "id": "NLy9xOz1qWWE",
   "metadata": {
    "id": "NLy9xOz1qWWE"
   },
   "outputs": [],
   "source": [
    "# Добавляем колонку из unixtime в test, train\n",
    "test['parsing_date'] = pd.to_datetime(test['parsing_unixtime'], unit='s')\n",
    "test['parsing_date'] = pd.to_datetime(test['parsing_date']).dt.floor('d')"
   ]
  },
  {
   "cell_type": "code",
   "execution_count": null,
   "id": "rLGbMC0CqX_j",
   "metadata": {
    "id": "rLGbMC0CqX_j"
   },
   "outputs": [],
   "source": [
    "# Поскольку это служебный признак, то мы его сразу добавляем в список на удаление\n",
    "# Создадим список и добавим колонки, которые планируем удалить по результатам предварительного анализа\n",
    "cols_removal = ['parsing_date']"
   ]
  },
  {
   "cell_type": "code",
   "execution_count": null,
   "id": "wiUf7LDJqZeY",
   "metadata": {
    "id": "wiUf7LDJqZeY"
   },
   "outputs": [],
   "source": [
    "# Для анализа склеиваем все датафреймы по общим колонкам, добавляем признак train\n",
    "train['train'] = 1  # помечаем где у нас трейн\n",
    "test['train'] = 0  # помечаем где у нас тест\n",
    "# в тесте у нас нет значения цены, мы его должны предсказать, поэтому пока просто заполняем нулями\n",
    "test['price'] = 0\n",
    "train['sell_id'] = 0  # поле понадобавиться для сабмита\n",
    "\n",
    "data = pd.concat([train, test], axis=0,\n",
    "                 join=\"inner\", ignore_index=True)"
   ]
  },
  {
   "cell_type": "code",
   "execution_count": null,
   "id": "-H7y9wNfqbe8",
   "metadata": {
    "colab": {
     "base_uri": "https://localhost:8080/"
    },
    "id": "-H7y9wNfqbe8",
    "outputId": "52cee728-9791-40c0-8452-aa02453b12d7"
   },
   "outputs": [],
   "source": [
    "# Посмотрим, что получилось\n",
    "data.info()"
   ]
  },
  {
   "cell_type": "code",
   "execution_count": null,
   "id": "N3F0DQPhqeaq",
   "metadata": {
    "id": "N3F0DQPhqeaq"
   },
   "outputs": [],
   "source": [
    "# Преобразуем modelDate в int\n",
    "data['modelDate'] = data['modelDate'].astype('Int64')"
   ]
  },
  {
   "cell_type": "code",
   "execution_count": null,
   "id": "C_8acGgiqf6T",
   "metadata": {
    "colab": {
     "base_uri": "https://localhost:8080/",
     "height": 337
    },
    "id": "C_8acGgiqf6T",
    "outputId": "cabec036-c1ee-413c-c93e-ce2406e7fe9a"
   },
   "outputs": [],
   "source": [
    "data.sample(3)"
   ]
  },
  {
   "cell_type": "markdown",
   "id": "jTsoaRVuqi1R",
   "metadata": {
    "id": "jTsoaRVuqi1R"
   },
   "source": [
    "#### Проведем предварительный анализ данных."
   ]
  },
  {
   "cell_type": "code",
   "execution_count": null,
   "id": "k_UmBERJqjz9",
   "metadata": {
    "id": "k_UmBERJqjz9"
   },
   "outputs": [],
   "source": [
    "# Запустим библиотеку для предварительного анализа данных\n",
    "#ProfileReport(data, title=\"Pandas Profiling Report for Merged Test and Train Datasets\")"
   ]
  },
  {
   "cell_type": "markdown",
   "id": "DR-09OOXqlsA",
   "metadata": {
    "id": "DR-09OOXqlsA"
   },
   "source": [
    "Выводы:\n",
    "\n",
    "Суммарно 124064 строки, 1.2% пропусков, 0.4% дубликатов. Данные достаточно \"чистые\", пригодны для работы.\n",
    "В датасете 27 признаков. Типы переменных: числовых - 7, категориальных - 18, неопределенный - 1.\n",
    "Идеи по очистке данных в колонках и вопросы для анализа данных:\n",
    "\n",
    "bodyType - убрать верхний и нижний регистр, сократить кол-во категорий, убрать информацию о количестве дверей, тк есть отдельный признак numberOfDoors.\n",
    "color - коды перевести в цвета\n",
    "fuelType - разобраться, что такое универсал\n",
    "vehicleTransmission - рус и англ варианты унифицировать\n",
    "numberOfDoors - разобраться с транспортом 0 дверей\n",
    "driveSide - рус и англ варианты унифицировать\n",
    "tcp - рус и англ варианты унифицировать\n",
    "description - кандидат на удаление, но можно извлечь новые признаки\n",
    "ownershipTime - кандидат на удаление, т.к. много пропусков\n",
    "price - есть пропуски, т.к. целевая переменная не заполняем, а удаляем строки.\n",
    "Признаки-кандидаты на удаление:\n",
    "\n",
    "vehicleConfiguration - дублирует информацию из колонок vehicleTransmission, engineDisplacement, bodyType Удалить признак после обработки пропусков.\n",
    "name - дублирует информацию из колонок engineDisplacement, vehicleTransmission, enginePower, drivetrain. Удалить признак после обработки пропусков\n",
    "price - есть пропущенные значения, удалить строки из обучающей выборки.\n",
    "Корреляционный анализ:\n",
    "есть колинеарные признаки:\n",
    "(productionDate - modelDate, mileage - modelDate/productionDate, ownersCount - modelDate/productionDate). Логично, что дата модели и дата производства связаны, также чем старше машина, тем больше пробег и тем большее количетсво владельцев авто)\n",
    "`conditions, customs - некорретные коэффициенты, нужно анализировать.\n",
    "Наибольшее количество пропусков в колонках ownershipCount, ownersCount. Можно попробовать предсказать количество, исходя из даты выпуска (т.к. признаки скоррелированы)."
   ]
  },
  {
   "cell_type": "markdown",
   "id": "hLFqnjCoqpFP",
   "metadata": {
    "id": "hLFqnjCoqpFP"
   },
   "source": [
    "Создадим список, в который будем добавлять колонки-кандидаты на удаление из датасета."
   ]
  },
  {
   "cell_type": "code",
   "execution_count": null,
   "id": "LJpFH2HZqrI-",
   "metadata": {
    "id": "LJpFH2HZqrI-"
   },
   "outputs": [],
   "source": [
    "# Создадим список и добавим колонки, которые планируем удалить по результатам предварительного анализа\n",
    "cols_removal.append('vehicleConfiguration')\n",
    "cols_removal.append('name')"
   ]
  },
  {
   "cell_type": "markdown",
   "id": "fEwFk2BhqtcR",
   "metadata": {
    "id": "fEwFk2BhqtcR"
   },
   "source": [
    "### Проведем чистку и дополнительную подготовку данных."
   ]
  },
  {
   "cell_type": "markdown",
   "id": "gSXZqcWHquWV",
   "metadata": {
    "id": "gSXZqcWHquWV"
   },
   "source": [
    "#### bodyType\n",
    "\n",
    "Тип кузова."
   ]
  },
  {
   "cell_type": "code",
   "execution_count": null,
   "id": "IouGoT0Bqv4_",
   "metadata": {
    "colab": {
     "base_uri": "https://localhost:8080/"
    },
    "id": "IouGoT0Bqv4_",
    "outputId": "9e275a47-aca8-4387-e37b-8be91743fd79"
   },
   "outputs": [],
   "source": [
    "data.bodyType.value_counts()"
   ]
  },
  {
   "cell_type": "code",
   "execution_count": null,
   "id": "XLRvVk8SqzMP",
   "metadata": {
    "id": "XLRvVk8SqzMP"
   },
   "outputs": [],
   "source": [
    "# Приведем значения к нижнему регистру, уберем ряд дубликатов в значениях\n",
    "data['bodyType'] = data['bodyType'].apply(lambda x: str(x).lower())"
   ]
  },
  {
   "cell_type": "code",
   "execution_count": null,
   "id": "5tKsgZMYq01p",
   "metadata": {
    "id": "5tKsgZMYq01p"
   },
   "outputs": [],
   "source": [
    "# Выполним стандартизацию типов кузовов и приведем в соответствие с настройками поиска auto.ru\n",
    "data['bodyType'].replace(regex={r'внедорожник.*': 'внедорожник',\n",
    "                                r'седан.*': 'седан',\n",
    "                                r'хэтчбек.*': 'хэтчбек',\n",
    "                                r'купе.*': 'купе',  r'тарга.*': 'тарга', r'микровэн.*': 'микровэн',\n",
    "                                r'пикап.*': 'пикап', r'родстер.*': 'родстер',\n",
    "                                r'универсал.*': 'универсал', r'лифтбек.*': 'лифтбек',\n",
    "                                r'минивэн.*': 'минивэн', r'компактвэн.*': 'компактвэн',\n",
    "                                r'лимузин.*': 'лимузин', r'фургон.*': 'фургон', r'кабриолет.*': 'кабриолет'\n",
    "                                },\n",
    "                         inplace=True)"
   ]
  },
  {
   "cell_type": "code",
   "execution_count": null,
   "id": "V8cVGTxmq2r2",
   "metadata": {
    "colab": {
     "base_uri": "https://localhost:8080/"
    },
    "id": "V8cVGTxmq2r2",
    "outputId": "6a978bd2-e3fd-42eb-dcd8-f9590e90dfcd"
   },
   "outputs": [],
   "source": [
    "print(\"Уникальные значения типа кузова после очистки:\", data.bodyType.unique())"
   ]
  },
  {
   "cell_type": "markdown",
   "id": "cslR2VHJq5G5",
   "metadata": {
    "id": "cslR2VHJq5G5"
   },
   "source": [
    "#### vehicleTransmission\n",
    "\n",
    "Информация про коробку передач."
   ]
  },
  {
   "cell_type": "code",
   "execution_count": null,
   "id": "UOn6sAREq5n9",
   "metadata": {
    "colab": {
     "base_uri": "https://localhost:8080/"
    },
    "id": "UOn6sAREq5n9",
    "outputId": "3d03c24a-413a-495d-d9ac-e9f49ecefaf8"
   },
   "outputs": [],
   "source": [
    "data.vehicleTransmission.value_counts()"
   ]
  },
  {
   "cell_type": "code",
   "execution_count": null,
   "id": "K1fvy1oCq73U",
   "metadata": {
    "id": "K1fvy1oCq73U"
   },
   "outputs": [],
   "source": [
    "# Создаем колонку transmission со значениями \"автомат\" и \"механическая\"\n",
    "data['transmission'] = data.vehicleTransmission.copy()\n",
    "\n",
    "data['transmission'].replace(['AUTOMATIC', 'ROBOT', 'VARIATOR',\n",
    "                              'роботизированная', 'автоматическая', 'вариатор'], \"AT\", inplace=True)\n",
    "data['transmission'].replace(\n",
    "    ['MECHANICAL', 'механическая'], \"MT\", inplace=True)"
   ]
  },
  {
   "cell_type": "code",
   "execution_count": null,
   "id": "4a1sLC4gq9fe",
   "metadata": {
    "id": "4a1sLC4gq9fe"
   },
   "outputs": [],
   "source": [
    "# В колонке vehicleTransmission почистим данные значениями 'робот', 'автоматическая', 'вариатор' или \"механическая\"\n",
    "data['vehicleTransmission'].replace(\n",
    "    ['AUTOMATIC', 'автоматическая'], \"автоматическая\", inplace=True)\n",
    "data['vehicleTransmission'].replace(\n",
    "    ['ROBOT', 'роботизированная', ], \"робот\", inplace=True)\n",
    "data['vehicleTransmission'].replace(\n",
    "    ['VARIATOR', 'вариатор'], \"вариатор\", inplace=True)\n",
    "data['vehicleTransmission'].replace(\n",
    "    ['MECHANICAL', 'механическая'], \"механическая\", inplace=True)"
   ]
  },
  {
   "cell_type": "code",
   "execution_count": null,
   "id": "SgKu9W7Fq_SE",
   "metadata": {
    "colab": {
     "base_uri": "https://localhost:8080/"
    },
    "id": "SgKu9W7Fq_SE",
    "outputId": "d54ccbb8-4893-4419-ee62-6068d3b6fa9f"
   },
   "outputs": [],
   "source": [
    "# Проверим, какие значения получились\n",
    "print(data['transmission'].unique())\n",
    "print(data['vehicleTransmission'].unique())"
   ]
  },
  {
   "cell_type": "markdown",
   "id": "eOmL7ub_rBkf",
   "metadata": {
    "id": "eOmL7ub_rBkf"
   },
   "source": [
    "#### color\n",
    "\n",
    "Цвет автомобиля."
   ]
  },
  {
   "cell_type": "code",
   "execution_count": null,
   "id": "t7No9GNyrCgT",
   "metadata": {
    "colab": {
     "base_uri": "https://localhost:8080/"
    },
    "id": "t7No9GNyrCgT",
    "outputId": "16d5fd7d-5042-4019-8eca-0f986dc90d14"
   },
   "outputs": [],
   "source": [
    "# Посмотрим на представленные цвета\n",
    "data.color.unique()"
   ]
  },
  {
   "cell_type": "code",
   "execution_count": null,
   "id": "Y0_IKf5arGEH",
   "metadata": {
    "id": "Y0_IKf5arGEH"
   },
   "outputs": [],
   "source": [
    "# Создаем словать с кодировкой значений в цвета\n",
    "color_dict = {'040001': 'чёрный', 'EE1D19': 'красный', '0000CC': 'синий', 'CACECB': 'серебристый', '007F00': 'зелёный',\n",
    "              'FAFBFB': 'белый', '97948F': 'серый', '22A0F8': 'голубой', '660099': 'пурпурный', '200204': 'коричневый',\n",
    "              'C49648': 'бежевый', 'DEA522': 'золотистый', '4A2197': 'фиолетовый', 'FFD600': 'жёлтый',\n",
    "              'FF8649': 'оранжевый', 'FFC0CB': 'розовый'}\n",
    "\n",
    "data['color'].replace(to_replace=color_dict, inplace=True)"
   ]
  },
  {
   "cell_type": "code",
   "execution_count": null,
   "id": "0wG1Hzy6rHzr",
   "metadata": {
    "colab": {
     "base_uri": "https://localhost:8080/"
    },
    "id": "0wG1Hzy6rHzr",
    "outputId": "08fd3a25-80ee-4692-8117-4423cd475232"
   },
   "outputs": [],
   "source": [
    "# Проверяем результат\n",
    "data.color.unique()"
   ]
  },
  {
   "cell_type": "markdown",
   "id": "zUOIVxD1rPTN",
   "metadata": {
    "id": "zUOIVxD1rPTN"
   },
   "source": [
    "#### driveSide\n",
    "\n",
    "Расположение руля"
   ]
  },
  {
   "cell_type": "code",
   "execution_count": null,
   "id": "F2IdiU2BrQCF",
   "metadata": {
    "colab": {
     "base_uri": "https://localhost:8080/"
    },
    "id": "F2IdiU2BrQCF",
    "outputId": "56976031-8511-4f31-a03d-d544950fbb7b"
   },
   "outputs": [],
   "source": [
    "data.driveSide.unique()"
   ]
  },
  {
   "cell_type": "code",
   "execution_count": null,
   "id": "CN7dPeDKrS8w",
   "metadata": {
    "id": "CN7dPeDKrS8w"
   },
   "outputs": [],
   "source": [
    "# Заменим анлоязычные значения на русские\n",
    "data['driveSide'] = data['driveSide'].map(\n",
    "    {'RIGHT': 'Правый', 'LEFT': 'Левый', 'Правый': 'Правый', 'Левый': 'Левый'})"
   ]
  },
  {
   "cell_type": "code",
   "execution_count": null,
   "id": "t2dzDWmhrUq7",
   "metadata": {
    "id": "t2dzDWmhrUq7"
   },
   "outputs": [],
   "source": [
    "# Уберем верхний регистр\n",
    "data['driveSide'] = data['driveSide'].str.lower()"
   ]
  },
  {
   "cell_type": "code",
   "execution_count": null,
   "id": "jC3__KNerWJr",
   "metadata": {
    "colab": {
     "base_uri": "https://localhost:8080/"
    },
    "id": "jC3__KNerWJr",
    "outputId": "e18e1439-0943-4ab8-e952-f63108eeaebc"
   },
   "outputs": [],
   "source": [
    "# Проверяем результат\n",
    "data.driveSide.unique()"
   ]
  },
  {
   "cell_type": "markdown",
   "id": "YlvQThcyrYTN",
   "metadata": {
    "id": "YlvQThcyrYTN"
   },
   "source": [
    "#### tcp\n",
    "\n",
    "Оригинал ПТС"
   ]
  },
  {
   "cell_type": "code",
   "execution_count": null,
   "id": "m5tqr0IHrbJt",
   "metadata": {
    "colab": {
     "base_uri": "https://localhost:8080/"
    },
    "id": "m5tqr0IHrbJt",
    "outputId": "5c262efd-8ffc-4bfe-dd19-1f42ec3bc3a4"
   },
   "outputs": [],
   "source": [
    "data.tcp.unique()"
   ]
  },
  {
   "cell_type": "code",
   "execution_count": null,
   "id": "A1BBv2RnrdiA",
   "metadata": {
    "id": "A1BBv2RnrdiA"
   },
   "outputs": [],
   "source": [
    "# Заменим анлоязычные значения на русские\n",
    "data['tcp'] = data['tcp'].map(\n",
    "    {'ORIGINAL': 'Оригинал', 'DUPLICATE': 'Дубликат', 'Оригинал': 'Оригинал', 'Дубликат': 'Дубликат'})"
   ]
  },
  {
   "cell_type": "code",
   "execution_count": null,
   "id": "tYbvClvMrfIb",
   "metadata": {
    "id": "tYbvClvMrfIb"
   },
   "outputs": [],
   "source": [
    "# Уберем верхний регистр\n",
    "data['tcp'] = data['tcp'].str.lower()"
   ]
  },
  {
   "cell_type": "code",
   "execution_count": null,
   "id": "BufrOycUrhIX",
   "metadata": {
    "colab": {
     "base_uri": "https://localhost:8080/"
    },
    "id": "BufrOycUrhIX",
    "outputId": "fd5196c8-1850-4a19-e13f-bbbce022e772"
   },
   "outputs": [],
   "source": [
    "# Проверяем результат\n",
    "data.tcp.unique()"
   ]
  },
  {
   "cell_type": "markdown",
   "id": "n9rMeutLrj-t",
   "metadata": {
    "id": "n9rMeutLrj-t"
   },
   "source": [
    "### Определим количество дубликатов в данных в части train."
   ]
  },
  {
   "cell_type": "code",
   "execution_count": null,
   "id": "uKzN5lOxrksz",
   "metadata": {
    "colab": {
     "base_uri": "https://localhost:8080/"
    },
    "id": "uKzN5lOxrksz",
    "outputId": "db6c11c1-63ac-4534-86b3-ed8285a94a5e"
   },
   "outputs": [],
   "source": [
    "print(\"Количество дубликатов строк в train части датафрейма:\",\n",
    "      data[data.train == 1].duplicated().sum())"
   ]
  },
  {
   "cell_type": "code",
   "execution_count": null,
   "id": "bfh552SErmqD",
   "metadata": {
    "id": "bfh552SErmqD"
   },
   "outputs": [],
   "source": [
    "# Удалим дубликаты из датасета\n",
    "data.drop_duplicates(inplace=True)"
   ]
  },
  {
   "cell_type": "code",
   "execution_count": null,
   "id": "TF5HSy5HroQ6",
   "metadata": {
    "colab": {
     "base_uri": "https://localhost:8080/"
    },
    "id": "TF5HSy5HroQ6",
    "outputId": "56d78bdf-d10c-4563-cc35-4f632850c31c"
   },
   "outputs": [],
   "source": [
    "print(f\"Для анализа осталось {len(data)} записей.\")"
   ]
  },
  {
   "cell_type": "markdown",
   "id": "-uNBoFngrqU1",
   "metadata": {
    "id": "-uNBoFngrqU1"
   },
   "source": [
    "### Посмотрим вцелом на наличие пустых значений и определим стратегию работы с ними."
   ]
  },
  {
   "cell_type": "code",
   "execution_count": null,
   "id": "pnexLoFerq2I",
   "metadata": {
    "colab": {
     "base_uri": "https://localhost:8080/",
     "height": 575
    },
    "id": "pnexLoFerq2I",
    "outputId": "2a7b8612-2cfc-4316-97fa-d57328cd7504"
   },
   "outputs": [],
   "source": [
    "# Запускаем функцию вывода всех пустых значений\n",
    "print(\"Пропуски для TEST+TRAIN датафрейов.\\n\")\n",
    "intitial_eda_checks(data, 0)"
   ]
  },
  {
   "cell_type": "code",
   "execution_count": null,
   "id": "MWntxPBartdM",
   "metadata": {
    "colab": {
     "base_uri": "https://localhost:8080/",
     "height": 230
    },
    "id": "MWntxPBartdM",
    "outputId": "86b954e8-7790-4922-b99d-5ec7485e5f84"
   },
   "outputs": [],
   "source": [
    "print(\"Пропуски для TEST датафрейма.\\n\")\n",
    "intitial_eda_checks(data[data.train == 0], 0)"
   ]
  },
  {
   "cell_type": "markdown",
   "id": "PMfqL0fIrwBd",
   "metadata": {
    "id": "PMfqL0fIrwBd"
   },
   "source": [
    "В 17 столбцах присутствуют пропуски.\n",
    "Test:\n",
    "[x] tcp: пропуск в одной записи, посмотреть на нее детально, попробовать восстановить или заполнить модой\n",
    "[x] ownershipTime: много пропусков (около 65%), проанализировать с чем скоррелирован признак, попробовать заполнить. Если заполнить не получится, то возможно, удалить из признаков для моделирования.\n",
    "All:\n",
    "[x] ownersCount - можно построить мапинг с медианой/модой по группам в зависимости от года выпуска авто.\n",
    "[x] price - значения с пропусками удалить из данных\n",
    "[x] tcp - поисследовать пропуски и подумать над способами заполнения.\n",
    "[x] есть ряд столбцов, где присутсвует одинаковое количество (1) пропусков. Проверить гипотезу, что пропуски находятся в одной и той же строке."
   ]
  },
  {
   "cell_type": "markdown",
   "id": "bY_WzMPZryjd",
   "metadata": {
    "id": "bY_WzMPZryjd"
   },
   "source": [
    "#### price"
   ]
  },
  {
   "cell_type": "code",
   "execution_count": null,
   "id": "q8QyJpbtrwoT",
   "metadata": {
    "colab": {
     "base_uri": "https://localhost:8080/"
    },
    "id": "q8QyJpbtrwoT",
    "outputId": "d71ee237-ba2b-453c-c853-cde8638b0761"
   },
   "outputs": [],
   "source": [
    "# Проверим, что price отсуствует именно в train данных и мы не затроним test\n",
    "data[data.price.isnull() == True]['train'].value_counts()"
   ]
  },
  {
   "cell_type": "code",
   "execution_count": null,
   "id": "sqCIH1H8r2vF",
   "metadata": {
    "id": "sqCIH1H8r2vF"
   },
   "outputs": [],
   "source": [
    "# Удаляем строки с price = NAN\n",
    "data.dropna(subset=['price'], inplace=True)"
   ]
  },
  {
   "cell_type": "markdown",
   "id": "M26uY3Uyr5j6",
   "metadata": {
    "id": "M26uY3Uyr5j6"
   },
   "source": [
    "Проверим строки, где есть пропуски по drivetrain, vehicleTransmission, enginePower, transmission, vehicleConfiguration, numberOfDoors, name, modelDate."
   ]
  },
  {
   "cell_type": "code",
   "execution_count": null,
   "id": "Pj62mp7Jr6Ja",
   "metadata": {
    "colab": {
     "base_uri": "https://localhost:8080/",
     "height": 170
    },
    "id": "Pj62mp7Jr6Ja",
    "outputId": "dbe4f242-5a72-467c-cb0f-c5f9f4d6889f"
   },
   "outputs": [],
   "source": [
    "# Посмотрим на запись, чтобы проверить гипотезу\n",
    "data[data.modelDate.isnull() == True]"
   ]
  },
  {
   "cell_type": "code",
   "execution_count": null,
   "id": "I-lnDflar-b2",
   "metadata": {
    "id": "I-lnDflar-b2"
   },
   "outputs": [],
   "source": [
    "# Гипотеза подтвердилась, исключим строку из анализа\n",
    "row_index = data[data.modelDate.isnull() == True].index[0]\n",
    "data.drop([row_index], inplace=True)"
   ]
  },
  {
   "cell_type": "markdown",
   "id": "lCFIv5mIsAum",
   "metadata": {
    "id": "lCFIv5mIsAum"
   },
   "source": [
    "#### tcp\n",
    "\n",
    "Проверим гипотезу, что:\n",
    "tcp пустой у новых машин, tcp пустой там, где это дубликат."
   ]
  },
  {
   "cell_type": "code",
   "execution_count": null,
   "id": "N9Dc-WT2sDAP",
   "metadata": {
    "colab": {
     "base_uri": "https://localhost:8080/",
     "height": 337
    },
    "id": "N9Dc-WT2sDAP",
    "outputId": "df02caed-381a-4edc-e416-0507026f70a1"
   },
   "outputs": [],
   "source": [
    "# Посмотрим на примеры таких данных\n",
    "data[data.tcp.isnull() == True].sample(3)"
   ]
  },
  {
   "cell_type": "code",
   "execution_count": null,
   "id": "PZGuH0iqsFfC",
   "metadata": {
    "colab": {
     "base_uri": "https://localhost:8080/",
     "height": 206
    },
    "id": "PZGuH0iqsFfC",
    "outputId": "dfa48f3a-20ef-4cbb-9338-8d212e82eb41"
   },
   "outputs": [],
   "source": [
    "# Сгруппируем данные по году выпуска и выведем медианный пробег и кол-во владельцев\n",
    "data[data.tcp.isnull() == True].groupby('productionDate')[\n",
    "    'mileage', 'ownersCount'].median()"
   ]
  },
  {
   "cell_type": "markdown",
   "id": "QDyal2gjsJH5",
   "metadata": {
    "id": "QDyal2gjsJH5"
   },
   "source": [
    "Действительно, выглядит так, что NAN - для новых машин и одной машины с теста."
   ]
  },
  {
   "cell_type": "code",
   "execution_count": null,
   "id": "KBJVSwxMsJyv",
   "metadata": {
    "id": "KBJVSwxMsJyv"
   },
   "outputs": [],
   "source": [
    "# Для одной записи из test присваиваем значение tcp \"дубликат\"\n",
    "data.tcp.loc[data[(data.tcp.isnull() == True) & (\n",
    "    data.train == 0)]['tcp'].index[0]] = 'дубликат'"
   ]
  },
  {
   "cell_type": "code",
   "execution_count": null,
   "id": "4F4OcaZksMeI",
   "metadata": {
    "colab": {
     "base_uri": "https://localhost:8080/"
    },
    "id": "4F4OcaZksMeI",
    "outputId": "d77fbdb6-32f4-44ec-db1c-bddb5633fa8f"
   },
   "outputs": [],
   "source": [
    "# Смотрим, какой mileage у оставшихся записей. Удостоверимся, что это авто без пробега\n",
    "data[data.tcp.isnull() == True].mileage.value_counts()"
   ]
  },
  {
   "cell_type": "code",
   "execution_count": null,
   "id": "bjY31T6xsOG4",
   "metadata": {
    "id": "bjY31T6xsOG4"
   },
   "outputs": [],
   "source": [
    "# Заполняем значением \"оригинал\" для авто без пробега\n",
    "data.tcp.fillna('оригинал', inplace=True)"
   ]
  },
  {
   "cell_type": "code",
   "execution_count": null,
   "id": "L0tRv3NTsP9x",
   "metadata": {
    "colab": {
     "base_uri": "https://localhost:8080/"
    },
    "id": "L0tRv3NTsP9x",
    "outputId": "7ee2f6c9-28a0-4ede-be11-7333088c9874"
   },
   "outputs": [],
   "source": [
    "# Проверяем, что получилось\n",
    "data.tcp.value_counts()"
   ]
  },
  {
   "cell_type": "markdown",
   "id": "gFuFhea6sR_v",
   "metadata": {
    "id": "gFuFhea6sR_v"
   },
   "source": [
    "#### description\n",
    "\n",
    "Пропуски заполнить проблематично, перед постраением модели признак удалим, пока оставим. Идея для нового признака - наличие описания (да/нет)."
   ]
  },
  {
   "cell_type": "code",
   "execution_count": null,
   "id": "SE4fN57BsS3F",
   "metadata": {
    "id": "SE4fN57BsS3F"
   },
   "outputs": [],
   "source": [
    "# добавим колонку в список на удаление перед построением модели\n",
    "cols_removal.append('description')"
   ]
  },
  {
   "cell_type": "markdown",
   "id": "GJlZjHaYsbyC",
   "metadata": {
    "id": "GJlZjHaYsbyC"
   },
   "source": [
    "#### ownershipTime\n",
    "\n",
    "Попробуем восстановить информацию о времени владения, исходя из информации в productionDate."
   ]
  },
  {
   "cell_type": "code",
   "execution_count": null,
   "id": "pI9ug4q5scte",
   "metadata": {
    "id": "pI9ug4q5scte"
   },
   "outputs": [],
   "source": [
    "# Создаем новый столбец с количеством месяцев владения\n",
    "data['ownershipTimeMonths'] = data['ownershipTime'].apply(num_of_months)"
   ]
  },
  {
   "cell_type": "code",
   "execution_count": null,
   "id": "OSJ9_qzYsg5l",
   "metadata": {
    "id": "OSJ9_qzYsg5l"
   },
   "outputs": [],
   "source": [
    "# Пока заполняем пропуски no_data, далее решаем, что сделать с признаком\n",
    "data['ownershipTime'] = data['ownershipTime'].fillna('no_data')"
   ]
  },
  {
   "cell_type": "code",
   "execution_count": null,
   "id": "nHJaFPHysidL",
   "metadata": {
    "colab": {
     "base_uri": "https://localhost:8080/",
     "height": 206
    },
    "id": "nHJaFPHysidL",
    "outputId": "9f9481db-c2ba-4069-adcb-fea88ea81e6d"
   },
   "outputs": [],
   "source": [
    "# Смотрим, что получилось\n",
    "data[data.ownershipTime != 'no_data'][[\n",
    "    'ownershipTime', 'ownershipTimeMonths']].sample(5)"
   ]
  },
  {
   "cell_type": "code",
   "execution_count": null,
   "id": "_CQOZTvBslWW",
   "metadata": {
    "id": "_CQOZTvBslWW"
   },
   "outputs": [],
   "source": [
    "# Заполним нулями признак для новых автомобилей\n",
    "data['ownershipTimeMonths'].loc[(data['mileage'] == 0) & (\n",
    "    data['ownershipTimeMonths'].isnull() == True)] = 0"
   ]
  },
  {
   "cell_type": "code",
   "execution_count": null,
   "id": "cYZSj0O4sm4O",
   "metadata": {
    "id": "cYZSj0O4sm4O"
   },
   "outputs": [],
   "source": [
    "# Добавим исходную колонку в список на удаление перед построением модели, т.к. пропусков очень много\n",
    "cols_removal.append('ownershipTime')\n",
    "cols_removal.append('ownershipTimeMonths')"
   ]
  },
  {
   "cell_type": "markdown",
   "id": "e4nzvZxCsomZ",
   "metadata": {
    "id": "e4nzvZxCsomZ"
   },
   "source": [
    "#### ownersCount\n",
    "\n",
    "Количество владельцев."
   ]
  },
  {
   "cell_type": "code",
   "execution_count": null,
   "id": "2cWXT80AspNb",
   "metadata": {
    "colab": {
     "base_uri": "https://localhost:8080/"
    },
    "id": "2cWXT80AspNb",
    "outputId": "c1eb8d7e-c94e-40da-f62f-ef054c9c3fa7"
   },
   "outputs": [],
   "source": [
    "# Все пропуски по значению находятся в train части\n",
    "data[data.ownersCount.isnull() == True].train.value_counts()"
   ]
  },
  {
   "cell_type": "code",
   "execution_count": null,
   "id": "Xxplte_rsr_x",
   "metadata": {
    "colab": {
     "base_uri": "https://localhost:8080/",
     "height": 226
    },
    "id": "Xxplte_rsr_x",
    "outputId": "1e5a15da-951f-45f1-ec84-d5f5c5c3e29d"
   },
   "outputs": [],
   "source": [
    "# Посмотрим по данным с незаполненным количетсвом владельцев медианные значения метрик.\n",
    "data[data.ownersCount.isnull() == True].groupby('productionDate').median()"
   ]
  },
  {
   "cell_type": "code",
   "execution_count": null,
   "id": "paO5mWhJst3b",
   "metadata": {
    "colab": {
     "base_uri": "https://localhost:8080/"
    },
    "id": "paO5mWhJst3b",
    "outputId": "e403156c-7a19-442c-8c9b-ac7693f8eda5"
   },
   "outputs": [],
   "source": [
    "# Посмотрим на уникальные значения пробега по отфильтрованным данным.\n",
    "data[data.ownersCount.isnull() == True]['mileage'].describe()"
   ]
  },
  {
   "cell_type": "code",
   "execution_count": null,
   "id": "tdft1Q_QsxOh",
   "metadata": {
    "id": "tdft1Q_QsxOh"
   },
   "outputs": [],
   "source": [
    "# Владельцы не заполнены, потому что это новые авто. Заполняем пропуски 0.\n",
    "data['ownersCount'].fillna(0, inplace=True)"
   ]
  },
  {
   "cell_type": "code",
   "execution_count": null,
   "id": "mphg5wF2syye",
   "metadata": {
    "id": "mphg5wF2syye"
   },
   "outputs": [],
   "source": [
    "# Приведем значение признака из float в int\n",
    "data['ownersCount'] = data['ownersCount'].astype('int64')"
   ]
  },
  {
   "cell_type": "markdown",
   "id": "DNOXxwzLs1u9",
   "metadata": {
    "id": "DNOXxwzLs1u9"
   },
   "source": [
    "### Детальный анализ признаков\n",
    "Группировка признаков на категориальные, бинарные и числовые\n",
    "Посмотрим, какие признаки могут относиться к категориальным, бинарным, числовым."
   ]
  },
  {
   "cell_type": "code",
   "execution_count": null,
   "id": "lMm5QuQ6s2XI",
   "metadata": {
    "colab": {
     "base_uri": "https://localhost:8080/"
    },
    "id": "lMm5QuQ6s2XI",
    "outputId": "4a1da424-e74b-45ea-e10a-e1b7806764e6"
   },
   "outputs": [],
   "source": [
    "# Посмотрим, сколько уникальных значений в признаках\n",
    "print(\"Количество уникальных категорий в признаках.\")\n",
    "data.nunique(dropna=False)"
   ]
  },
  {
   "cell_type": "code",
   "execution_count": null,
   "id": "I2RT0xHKs5PT",
   "metadata": {
    "colab": {
     "base_uri": "https://localhost:8080/"
    },
    "id": "I2RT0xHKs5PT",
    "outputId": "c0a455b3-3709-4790-e575-e1cef94c6da9"
   },
   "outputs": [],
   "source": [
    "# Рассмотрим пример признака\n",
    "print(\"Выведем пример значений признаков одной из записей датасета.\")\n",
    "data.loc[11]"
   ]
  },
  {
   "cell_type": "code",
   "execution_count": null,
   "id": "ltlTHjAYs7zB",
   "metadata": {
    "colab": {
     "base_uri": "https://localhost:8080/"
    },
    "id": "ltlTHjAYs7zB",
    "outputId": "3811bcd2-5e8a-4298-fcd5-2acdeb6d896e"
   },
   "outputs": [],
   "source": [
    "# Посмотрим, на колонки, которые планируем впоследствии удалить, чтобы не включать их в анализ\n",
    "print(\"Признаки для последующего удаления:\", cols_removal)"
   ]
  },
  {
   "cell_type": "code",
   "execution_count": null,
   "id": "8OreeX20s-G0",
   "metadata": {
    "colab": {
     "base_uri": "https://localhost:8080/"
    },
    "id": "8OreeX20s-G0",
    "outputId": "2b15c5f6-7d0c-41bb-f64c-b330ddfbea1c"
   },
   "outputs": [],
   "source": [
    "# Создадим списки с разными категориями признаков\n",
    "# бинарные признаки\n",
    "bin_cols = ['condition', 'customs', 'driveSide', 'transmission', 'tcp']\n",
    "\n",
    "# категориальные переменные\n",
    "cat_cols = ['bodyType', 'brand', 'color', 'fuelType', 'drivetrain',\n",
    "            'model', 'vendor', 'vehicleTransmission', 'numberOfDoors', 'ownersCount']\n",
    "\n",
    "# числовые переменные\n",
    "num_cols = ['modelDate', 'productionDate',\n",
    "            'enginePower', 'mileage', 'engineDisplacement']\n",
    "\n",
    "# сервисные переменные\n",
    "service_cols = ['train', 'sell_id', 'parsing_date']\n",
    "\n",
    "# целевая переменная\n",
    "target_col = ['price']\n",
    "\n",
    "all_cols = bin_cols + cat_cols + num_cols + service_cols + target_col\n",
    "\n",
    "print(\"Кол-во столбцов, для дальнейшей работы после предварительного анализа:\", len(all_cols))"
   ]
  },
  {
   "cell_type": "markdown",
   "id": "2pkdPNQetAE7",
   "metadata": {
    "id": "2pkdPNQetAE7"
   },
   "source": [
    "### Распределние численных признаков."
   ]
  },
  {
   "cell_type": "code",
   "execution_count": null,
   "id": "3E0POKpJtBHQ",
   "metadata": {
    "colab": {
     "base_uri": "https://localhost:8080/",
     "height": 1000
    },
    "id": "3E0POKpJtBHQ",
    "outputId": "6f3c070b-2dc9-41e3-c3ac-11506c869864"
   },
   "outputs": [],
   "source": [
    "# Построим распределение основных числовых признаков\n",
    "\n",
    "print(\"Диаграмы распределения числовых признаков, взаимосвязь с целевой переменной\")\n",
    "\n",
    "fig, axes = plt.subplots(5, 3, figsize=(30, 40))\n",
    "plt.subplots_adjust(wspace=0.5)\n",
    "axes = axes.flatten()\n",
    "i = 0\n",
    "\n",
    "for col in num_cols:\n",
    "    sns.distplot(data[col], ax=axes[i])\n",
    "    i = i + 1\n",
    "    sns.boxplot(data[col], ax=axes[i])\n",
    "    i = i + 1\n",
    "    sns.scatterplot(data=data[data['train'] == 1],\n",
    "                    x=col, y=\"price\", ax=axes[i])\n",
    "    i = i + 1"
   ]
  },
  {
   "cell_type": "code",
   "execution_count": null,
   "id": "YJiQVtZytGF-",
   "metadata": {
    "colab": {
     "base_uri": "https://localhost:8080/",
     "height": 317
    },
    "id": "YJiQVtZytGF-",
    "outputId": "cdafc3f5-4ff7-4e4f-b9ce-8d8b5cd538a3"
   },
   "outputs": [],
   "source": [
    "print(\"Основные статистики для числовых признаков.\")\n",
    "display(data[num_cols].describe())"
   ]
  },
  {
   "cell_type": "markdown",
   "id": "BnBEaRoetKXf",
   "metadata": {
    "id": "BnBEaRoetKXf"
   },
   "source": [
    "Выводы:\n",
    "\n",
    "После построения гистограмм стало очевидно, что распределения основных числовых переменных имеют тяжёлый левый или правый хвост, влияет на разбежку между средним и медианой:\n",
    "для того, чтобы сделать распределение данных переменных более нормальным, можно работать с логарифмированными величинами этих переменных\n",
    "поработать с выбросами\n",
    "подумать про группировку признаков по категориям.\n",
    "Распределение modelDate, productionDate очень схожи:\n",
    "проверить признаки на мультиколлинеарность во время корреляционного анализа\n",
    "видно, что в среднем productionDate чуть позже, чем modelDate во времени, т.е. производство приосходит чуть с запозданием, что логично. Можно добавить новый признак - насколько новая модель, т.е. через сколько лет после появления модели был выпущен автомобиль.\n",
    "mileage: есть пик в 0 - признак нового авто.\n",
    "enginePower: 11 лс - что это за авто? Поисследовать\n",
    "engineDisplacement: основная масса авто - 2.0 л, есть разброс.\n",
    "Взаимосвязь признаков с таргетом:\n",
    "наблюдается прямая корреляция цены от года модели и года выпуска с исключениями для особо раритетных автомобилей.\n",
    "наблюдается обратная корреляция цены от пробега авто\n",
    "цена от мощности вдигателя и объема двигателя зависит, но не так явно, как от других переменных."
   ]
  },
  {
   "cell_type": "markdown",
   "id": "mG7oBNSztMlz",
   "metadata": {
    "id": "mG7oBNSztMlz"
   },
   "source": [
    "#### Корреляционный анализ.\n",
    "Оценим корреляцию Пирсона для непрерывных переменных. Cильная корреляция между переменными вредна для линейных моделей из-за неустойчивости полученных оценок."
   ]
  },
  {
   "cell_type": "code",
   "execution_count": null,
   "id": "cri2XwrUtOGR",
   "metadata": {
    "colab": {
     "base_uri": "https://localhost:8080/",
     "height": 388
    },
    "id": "cri2XwrUtOGR",
    "outputId": "9f466ed3-1a31-4125-e9fc-eca126b3972a"
   },
   "outputs": [],
   "source": [
    "# Построим матрицу корреляций\n",
    "heatmap = sns.heatmap(data[num_cols + target_col].corr(), vmin=-1,\n",
    "                      vmax=1, annot=True, cmap='BrBG')\n",
    "heatmap.set_title('Матрица корреляций числовых и целевой переменных')\n",
    "plt.show()"
   ]
  },
  {
   "cell_type": "markdown",
   "id": "dWMziaKVtRUa",
   "metadata": {
    "id": "dWMziaKVtRUa"
   },
   "source": [
    "Вывод:\n",
    "\n",
    "Взаимосвязь пар числовых признаков по Пирсону достаточно сильная для productionDate, modelDate. При этом, у productionDate чуть большая корреляция с целевой переменной. Удалим признак modelDate.\n",
    "Достаточно сильная корреляция между productionDate и mileage - чем меньше год выпуска, тем больше пробег\n",
    "engineDisplacement и enginePower достаточно сильно скоррелированы (0.84). Для моделирования оставим один признак - enginePower, т.к. он сильнее влияет на price.\n",
    "У всех числовых признаков достаточно высокая корреляция с целевой переменной, это хорошо."
   ]
  },
  {
   "cell_type": "code",
   "execution_count": null,
   "id": "boEwfZ2stTTu",
   "metadata": {
    "id": "boEwfZ2stTTu"
   },
   "outputs": [],
   "source": [
    "# Добавляем modelDate в список колонок на удаление.\n",
    "cols_removal.append('modelDate')\n",
    "cols_removal.append('engineDisplacement')"
   ]
  },
  {
   "cell_type": "markdown",
   "id": "2rYh73_TtVi-",
   "metadata": {
    "id": "2rYh73_TtVi-"
   },
   "source": [
    "#### Дополнительный анализ числовых признаков\n",
    "Посмотрим более пристально на признаки, которые не исключили из анализа."
   ]
  },
  {
   "cell_type": "markdown",
   "id": "mULW024WtWS8",
   "metadata": {
    "id": "mULW024WtWS8"
   },
   "source": [
    "#### mileage\n",
    "\n",
    "Дополнительно исследуем признак."
   ]
  },
  {
   "cell_type": "code",
   "execution_count": null,
   "id": "8HbxqPVOtX-6",
   "metadata": {
    "colab": {
     "base_uri": "https://localhost:8080/",
     "height": 338
    },
    "id": "8HbxqPVOtX-6",
    "outputId": "582d7eff-3205-4dff-f5e4-2adf606acdcc"
   },
   "outputs": [],
   "source": [
    "# Посмотрим на топ 5 годов выпуска авто\n",
    "fig, ax = plt.subplots(figsize=(10, 5))\n",
    "\n",
    "for x in (data['productionDate'].value_counts())[0:7].index:\n",
    "    data['mileage'][data['productionDate'] == x].hist(bins=50)\n",
    "\n",
    "ax.set_xlim(0, 700000)\n",
    "ax.set_ylim(0, 1650)\n",
    "\n",
    "plt.title(\"Распределение mileage по productionDate\")\n",
    "plt.show()"
   ]
  },
  {
   "cell_type": "markdown",
   "id": "AUZVV9dhtbyJ",
   "metadata": {
    "id": "AUZVV9dhtbyJ"
   },
   "source": [
    "Получается, что mileage имеет достаточно нормальное распределение, не с таким уж сильным правым смещением, если смотреть на графики по годам производства, а не на все числа. Чем старше автомобиль, тем больше пробег и мы наблюдаем смещение.\n",
    "\n",
    "Чтобы скорректировать признак и сделать его более информативным, создадим новый признак в разделе создания признаков: km_per_year - показывает, сколько км в год проезжал автомобиль. Вычисляется как mileage/productionDate(years) или mileage/ownershipTime. Решить, какой метод использовать."
   ]
  },
  {
   "cell_type": "markdown",
   "id": "w3AvFwLUte8P",
   "metadata": {
    "id": "w3AvFwLUte8P"
   },
   "source": [
    "#### enginePower\n",
    "\n",
    "Нужно поисследовать странное минимальное значение мощности."
   ]
  },
  {
   "cell_type": "code",
   "execution_count": null,
   "id": "6IrQt9v1tgR_",
   "metadata": {
    "colab": {
     "base_uri": "https://localhost:8080/",
     "height": 381
    },
    "id": "6IrQt9v1tgR_",
    "outputId": "c10a1e99-ab3d-4d59-ce7a-fc4cf6ae2bb1"
   },
   "outputs": [],
   "source": [
    "print(\"Значение мощности двигателя (л.с.) на TEST\")\n",
    "display(data[data.train == 0]['enginePower'].describe())\n",
    "\n",
    "print(\"\\nЗначение мощности двигателя (л.с.) на TRAIN\")\n",
    "display(data[data.train == 1]['enginePower'].describe())"
   ]
  },
  {
   "cell_type": "markdown",
   "id": "iz7847OZtjca",
   "metadata": {
    "id": "iz7847OZtjca"
   },
   "source": [
    "Видим, что в test значение минимума больше, а максимума меньше. Посмотрим, что это за авто и сколько их."
   ]
  },
  {
   "cell_type": "code",
   "execution_count": null,
   "id": "DFopb-P0tkNQ",
   "metadata": {
    "colab": {
     "base_uri": "https://localhost:8080/",
     "height": 472
    },
    "id": "DFopb-P0tkNQ",
    "outputId": "a1e90e0f-46e6-4c5f-d7eb-a95ca085b098"
   },
   "outputs": [],
   "source": [
    "print(\"Строки, в которых мощность двигателя меньше 30 л.с.\")\n",
    "data[data.enginePower < data[data.train == 0]['enginePower'].min()]"
   ]
  },
  {
   "cell_type": "code",
   "execution_count": null,
   "id": "95cNrpl6tnIg",
   "metadata": {
    "colab": {
     "base_uri": "https://localhost:8080/",
     "height": 1000
    },
    "id": "95cNrpl6tnIg",
    "outputId": "175fe2c8-0760-4bce-a7fd-12bb91106e54"
   },
   "outputs": [],
   "source": [
    "print(\"Строки, в которых мощность двигателя более 639 л.с.\")\n",
    "data[data.enginePower > data[data.train == 0]['enginePower'].max()]"
   ]
  },
  {
   "cell_type": "markdown",
   "id": "u_XbPTfDtprY",
   "metadata": {
    "id": "u_XbPTfDtprY"
   },
   "source": [
    "Таких строк немного, удалять строки нельзя, т.к. необходимо строить предсказания по большим значениям enginePower."
   ]
  },
  {
   "cell_type": "markdown",
   "id": "3TG3PIWItsft",
   "metadata": {
    "id": "3TG3PIWItsft"
   },
   "source": [
    "#### productionDate/modelDate\n",
    "\n",
    "Посмотрим повнимательнее на признак и попробуем проанализировать поглубже."
   ]
  },
  {
   "cell_type": "code",
   "execution_count": null,
   "id": "dOlZ0KEDttw8",
   "metadata": {
    "colab": {
     "base_uri": "https://localhost:8080/",
     "height": 381
    },
    "id": "dOlZ0KEDttw8",
    "outputId": "ffcadbc0-8fae-4b3f-ec8e-fbfd318e04a6"
   },
   "outputs": [],
   "source": [
    "print(\"Значение года производства авто на TEST\")\n",
    "display(data[data.train == 0]['productionDate'].describe())\n",
    "\n",
    "print(\"\\nЗначение года производства авто на TRAIN\")\n",
    "display(data[data.train == 1]['productionDate'].describe())"
   ]
  },
  {
   "cell_type": "markdown",
   "id": "SE66TlKduAM3",
   "metadata": {
    "id": "SE66TlKduAM3"
   },
   "source": [
    "Минимальные значения, максимальные, медианные и среднии достаточно близки.\n",
    "\n",
    "Посмотрим на раритетные автомобили (30 летние машины, согласно классификации FIVA (Fédération Internationale des Véhicules Anciens)."
   ]
  },
  {
   "cell_type": "code",
   "execution_count": null,
   "id": "wdlJ8jHltvDa",
   "metadata": {
    "colab": {
     "base_uri": "https://localhost:8080/"
    },
    "id": "wdlJ8jHltvDa",
    "outputId": "eb193b93-d20f-4fc7-cdf6-400810fd272a"
   },
   "outputs": [],
   "source": [
    "# Посмотрим, сколько таких записей\n",
    "print(\n",
    "    f\"В датасете содержится {len(data[data.productionDate < (data['parsing_date'].max().year-30)]['productionDate'])} раритетных автомобилей.\")"
   ]
  },
  {
   "cell_type": "code",
   "execution_count": null,
   "id": "SXgpogYcuFn_",
   "metadata": {
    "colab": {
     "base_uri": "https://localhost:8080/",
     "height": 370
    },
    "id": "SXgpogYcuFn_",
    "outputId": "d2bdac48-b8bc-49dc-c1c3-7b6c82781e9c"
   },
   "outputs": [],
   "source": [
    "# Детальнее посмотрим, как падает цена в зависимости от productionDate\n",
    "\n",
    "fig, ax = plt.subplots(figsize=(10, 5))\n",
    "\n",
    "ax.set_xlim(1970, 2021)\n",
    "ax.set_ylim(0, 30000000)\n",
    "ax.set_xticks(np.arange(1970, 2022, 3))\n",
    "\n",
    "sns.scatterplot(data=data[data['train'] == 1], x='productionDate', y=\"price\")\n",
    "\n",
    "plt.title(\"Распределение целевой переменной в зависимости от productionDate\\n\")\n",
    "plt.show()"
   ]
  },
  {
   "cell_type": "markdown",
   "id": "ONDYFgN1uKmE",
   "metadata": {
    "id": "ONDYFgN1uKmE"
   },
   "source": [
    "Можно найти много информации, что цена автомобиля значительно падает после 3-5 лет эксплуатации. На графиках даная динамика тоже прослеживается. Идеи для новых признаков:\n",
    "\n",
    "prodDate_3Y - признак, что автомобилю уже 3 года\n",
    "prodDate_5Y - признак, что автомобилю уже 5 лет."
   ]
  },
  {
   "cell_type": "markdown",
   "id": "TZzRjgq1uNVB",
   "metadata": {
    "id": "TZzRjgq1uNVB"
   },
   "source": [
    "### Посмотрим на распределение признаков."
   ]
  },
  {
   "cell_type": "code",
   "execution_count": null,
   "id": "8IcXhIwduOyK",
   "metadata": {
    "colab": {
     "base_uri": "https://localhost:8080/",
     "height": 1000
    },
    "id": "8IcXhIwduOyK",
    "outputId": "9ccd6521-9928-4837-97e5-eee5d9a269f7"
   },
   "outputs": [],
   "source": [
    "# Построим распределение основных бинарных и категориальных признаков\n",
    "print(\"Распределение бинарных и категориальных признаков. Нажимите дважды для увелечения.\")\n",
    "\n",
    "fig, axes = plt.subplots(4, 4, figsize=(35, 35))\n",
    "plt.subplots_adjust(wspace=0.5)\n",
    "axes = axes.flatten()\n",
    "i = 0\n",
    "\n",
    "for col in (bin_cols + cat_cols):\n",
    "    sns.histplot(data=data, x=data[col], ax=axes[i],\n",
    "                 stat='count', bins=data[col].nunique())\n",
    "    plt.tight_layout()\n",
    "    plt.xticks(rotation=45)\n",
    "    plt.title(col)\n",
    "    i = i + 1"
   ]
  },
  {
   "cell_type": "code",
   "execution_count": null,
   "id": "wzEyIROZumzd",
   "metadata": {
    "colab": {
     "base_uri": "https://localhost:8080/",
     "height": 1000
    },
    "id": "wzEyIROZumzd",
    "outputId": "7ba14a5c-04b0-44aa-8822-bd04c571088c"
   },
   "outputs": [],
   "source": [
    "# Построим график boxplot\n",
    "print(\"Boxplot нечисловых признаков и их зависимость от цены.\")\n",
    "for col in (bin_cols + cat_cols):    \n",
    "    get_boxplot(col)"
   ]
  },
  {
   "cell_type": "markdown",
   "id": "_4kWtsymu0-e",
   "metadata": {
    "id": "_4kWtsymu0-e"
   },
   "source": [
    "Выводы по всем графикам:\n",
    "\n",
    "Полностью сбалансированные признаки отсутсвуют.\n",
    "Особо несбалансированные признаки:\n",
    "\n",
    "[x] driveSide - левосторонние машины в большинстве: выяснить, есть ли правосторонние машины в тесте. Если нет, то удалить признак\n",
    "[x] bodyType - некоторые категории представлены небольшим количеством машин, но boxplot показывает значительные различия и распределении по ценам. Идея схлопнуть малочисленные категории в other кажется не очень хорошей, т.к. разброс медианных цен очень большой для этих категорий. Оставлим пока признак, как есть.\n",
    "[x] brand - много категорий, заметно, что есть массовые, среднепопулярные и редкие бренды авто. Поисследовать дополнительно и подумать над созданием новых признаков (престижные авто/люкс, популярные и т.д.)\n",
    "[x] color - есть популярные цвета (черный, белый, серый, серебристый, синий) и редкие. Посмотреть дополнительно и создать новый признак о популярности цвета\n",
    "[x] fuelType - есть типы топлива, которые в явном меньшинстве. Поисследовть и подумать, стоит ли делать группировку непопулярных типов топлива\n",
    "[x] tcp - несбалансированный признак, но пока оставляем в модели\n",
    "[x] model - очень много уникальных категорий, подумать, можно ли как-то доработать признак. Подумать про объединение brand + model\n",
    "[x] numberOfDoors - малое количество машин в 0-3 - изучить детальнее\n",
    "\n",
    "Сбалансированные признаки с заметно превалирующим классом:\n",
    "\n",
    "transmission - автомат превалирует\n",
    "drivertrain - полный привод встречается чаще всего\n",
    "vendor - большее количество автомобилей европейского региона\n",
    "ownersCount - привалирует 3 и более.\n",
    "\n",
    "Неинформативные признаки: conditions, customs - после манипуляций с данными в признаках осталось только одно значение. Удаляем из анализа.\n",
    "\n",
    "Зависимость с целевой переменной:\n",
    "\n",
    "driveSide: авто с правосторонним рулем в среднем дешевле машин с левосторонним рулем\n",
    "transmission: авто с АТ коробкой намного дороже MT, как и сам диапазон цен\n",
    "bodyType: признак, который значительно влияет на распределение цен\n",
    "brand: большая разбежка цен от бренда. Выделяются престижные авто (porche, Cadillac, bmw, and Rover, Lexus и др), а есть дешевый сегмент (азиатские авто - Cherry, Daewoo, Great wall и др.). Также видны бренды, которые выпускают дорогие авто, но и есть модели для более дешевого сегмента.\n",
    "color: цены зависят от цвета, но большие цены представлены у цветов, количество авто по которым больше.\n",
    "fuelType: очень дорогие машины электро и дизель, возможно выделить отдельный признак, что машина “электрокар”\n",
    "drivetrain: полноприводные машины дороже всех, заднеприводные машины в среднем дешевле переднеприводных\n",
    "tcp: авто с дубликатом ПТС дешевле чем те, что с оригиналом\n",
    "model - данных много, но видно, что присутствую колебания цены в зависимости от модели\n",
    "vendor: в среднем, европейские и японские машины дороже американских и азиатских\n",
    "vehicleTransmission: в среднем разновидности автоматов особо не влияют на цену, проверить значимость признака тестом Стьюдента. Потенциально на исключение.\n",
    "numberOfDoors: в среднем самые дорогие авто - 2-х дверные, затем 5-дверные.\n",
    "ownersCount: чем больше владельцев, тем ниже средняя цена авто."
   ]
  },
  {
   "cell_type": "code",
   "execution_count": null,
   "id": "Xn31A3_Nu3HD",
   "metadata": {
    "id": "Xn31A3_Nu3HD"
   },
   "outputs": [],
   "source": [
    "# Добавляем modelDate в список колонок на удаление.\n",
    "cols_removal.append('condition')\n",
    "cols_removal.append('customs')"
   ]
  },
  {
   "cell_type": "markdown",
   "id": "rOIe_x_6u5xG",
   "metadata": {
    "id": "rOIe_x_6u5xG"
   },
   "source": [
    "Дополнительный анализ бинарных и категориальных признаков\n",
    "Посмотрим более пристально на признаки, которые не исключили из анализа и по которым возникли вопросы/требуется дополнительное исследование после предварительного анализа."
   ]
  },
  {
   "cell_type": "markdown",
   "id": "OBDxSS7nu6su",
   "metadata": {
    "id": "OBDxSS7nu6su"
   },
   "source": [
    "#### driveSide\n",
    "\n",
    "Левосторонние машины в большинстве, выясним, есть ли правосторонние машины в test. Если нет, то удалим признак."
   ]
  },
  {
   "cell_type": "code",
   "execution_count": null,
   "id": "oOMpyaSiu9ez",
   "metadata": {
    "colab": {
     "base_uri": "https://localhost:8080/"
    },
    "id": "oOMpyaSiu9ez",
    "outputId": "61ca082c-3255-4631-974b-a46a972fc360"
   },
   "outputs": [],
   "source": [
    "# Проверяем распределение признака в test\n",
    "test.driveSide.value_counts(normalize=True)"
   ]
  },
  {
   "cell_type": "markdown",
   "id": "F4EP_FRIvBmD",
   "metadata": {
    "id": "F4EP_FRIvBmD"
   },
   "source": [
    "4% данных в тесте правосторонние. Оставляем как есть."
   ]
  },
  {
   "cell_type": "markdown",
   "id": "A6_L0wdCvDow",
   "metadata": {
    "id": "A6_L0wdCvDow"
   },
   "source": [
    "#### brand\n",
    "\n",
    "Марка машины."
   ]
  },
  {
   "cell_type": "code",
   "execution_count": null,
   "id": "JyjnpORjvFsO",
   "metadata": {
    "colab": {
     "base_uri": "https://localhost:8080/"
    },
    "id": "JyjnpORjvFsO",
    "outputId": "b23e7267-f882-46db-b406-cf795be294da"
   },
   "outputs": [],
   "source": [
    "print(\n",
    "    f'Список категорий brand в test, которые не представлены в train: \\n{list(set(data[data.train == 0].brand.unique()).difference(data[data.train == 1].brand.unique()))}')\n",
    "print(\n",
    "    f'\\nСписок зачений brand в train, по которым не нужно делать предсказания в test: \\n{list(set(data[data.train == 1].brand.unique()).difference(data[data.train == 0].brand.unique()))}')"
   ]
  },
  {
   "cell_type": "code",
   "execution_count": null,
   "id": "5EdkfhdbvWt2",
   "metadata": {
    "colab": {
     "base_uri": "https://localhost:8080/",
     "height": 635
    },
    "id": "5EdkfhdbvWt2",
    "outputId": "abcb70e1-c30e-4250-cdaa-c8bd4827324d"
   },
   "outputs": [],
   "source": [
    "# Посмотрим внимательно на графики еще раз\n",
    "analyze_cat_cols('brand')"
   ]
  },
  {
   "cell_type": "markdown",
   "id": "LF0i7yckvg_F",
   "metadata": {
    "id": "LF0i7yckvg_F"
   },
   "source": [
    "Можно создать новые признаки:\n",
    "\n",
    "Флаг популярного авто: за ориентир взять значение data['brand'].value_counts() > data['brand'].value_counts().values.mean().\n",
    "Обычно на цену сильно влияет класс автомобиля (brand + bodyType), попробовать добавить признак с помощью метода главных компонент.\n",
    "Также в train присутсвует значительно большее количество брендов, чем в test. Учитывать при обработке выбросов."
   ]
  },
  {
   "cell_type": "markdown",
   "id": "kevFgwTqvjas",
   "metadata": {
    "id": "kevFgwTqvjas"
   },
   "source": [
    "#### model\n",
    "\n",
    "Модель машины."
   ]
  },
  {
   "cell_type": "code",
   "execution_count": null,
   "id": "LpK4GZofvkZ_",
   "metadata": {
    "colab": {
     "base_uri": "https://localhost:8080/"
    },
    "id": "LpK4GZofvkZ_",
    "outputId": "47fecad3-746a-44d0-8dfe-0369e67c6f17"
   },
   "outputs": [],
   "source": [
    "print(\n",
    "    f'Список категорий brand в test, которые не представлены в train: \\n{list(set(data[data.train == 0].model.unique()).difference(data[data.train == 1].model.unique()))}')\n",
    "print(\n",
    "    f'\\nСписок зачений brand в train, по которым не нужно делать предсказания в test: \\n{list(set(data[data.train == 1].model.unique()).difference(data[data.train == 0].model.unique()))}')"
   ]
  },
  {
   "cell_type": "markdown",
   "id": "bWqOhRVdvoBe",
   "metadata": {
    "id": "bWqOhRVdvoBe"
   },
   "source": [
    "Вывод:\n",
    "\n",
    "признак пока оставляем неизменным, можно добавить новый признак популярности модели среди брендов.\n",
    "В test есть модели, по которым нет данных в train - возможны ошибки в предсказании."
   ]
  },
  {
   "cell_type": "markdown",
   "id": "RbZV1ijTvqj-",
   "metadata": {
    "id": "RbZV1ijTvqj-"
   },
   "source": [
    "#### color\n",
    "\n",
    "Есть популярные цвета и редкие. Создадим новый признак популярности цвета."
   ]
  },
  {
   "cell_type": "code",
   "execution_count": null,
   "id": "hinmMfaDvrUI",
   "metadata": {
    "colab": {
     "base_uri": "https://localhost:8080/"
    },
    "id": "hinmMfaDvrUI",
    "outputId": "295d260a-4dee-45d0-f123-e0104d0299c3"
   },
   "outputs": [],
   "source": [
    "print(\n",
    "    f'Список категорий brand в test, которые не представлены в train: \\n{list(set(data[data.train == 0].color.unique()).difference(data[data.train == 1].color.unique()))}')\n",
    "print(\n",
    "    f'\\nСписок зачений brand в train, по которым не нужно делать предсказания в test: \\n{list(set(data[data.train == 1].color.unique()).difference(data[data.train == 0].color.unique()))}')"
   ]
  },
  {
   "cell_type": "code",
   "execution_count": null,
   "id": "QJkIsufOvt7R",
   "metadata": {
    "colab": {
     "base_uri": "https://localhost:8080/",
     "height": 636
    },
    "id": "QJkIsufOvt7R",
    "outputId": "8a236838-bd6d-4fca-e72d-ae58e0b32dd4"
   },
   "outputs": [],
   "source": [
    "# Посмотрим внимательно на графики еще раз\n",
    "analyze_cat_cols('color')"
   ]
  },
  {
   "cell_type": "markdown",
   "id": "DAUhanoqvww3",
   "metadata": {
    "id": "DAUhanoqvww3"
   },
   "source": [
    "Создадим признак популярного авто: за ориентир взять значение data['color'].value_counts() > data['color'].value_counts().values.mean()."
   ]
  },
  {
   "cell_type": "markdown",
   "id": "unVyBxtxvyxZ",
   "metadata": {
    "id": "unVyBxtxvyxZ"
   },
   "source": [
    "#### fuelType\n",
    "\n",
    "Есть типы топлива, которые в явном меньшинстве. Поисследовть и подумать, стоит ли делать группировку непопулярных типов топлива."
   ]
  },
  {
   "cell_type": "code",
   "execution_count": null,
   "id": "GnAjn2duvzab",
   "metadata": {
    "colab": {
     "base_uri": "https://localhost:8080/"
    },
    "id": "GnAjn2duvzab",
    "outputId": "f6f62f38-3f15-4f04-d0f3-dd29e375c71a"
   },
   "outputs": [],
   "source": [
    "print(\n",
    "    f'Список зачений по fuelType в трейне:= {list(data[data.train == 0].fuelType.unique())}')\n",
    "print(\n",
    "    f'Список зачений по fuelType в тесте:= {list(data[data.train == 1].fuelType.unique())}')"
   ]
  },
  {
   "cell_type": "code",
   "execution_count": null,
   "id": "kgFo7XuOv2g6",
   "metadata": {
    "colab": {
     "base_uri": "https://localhost:8080/",
     "height": 602
    },
    "id": "kgFo7XuOv2g6",
    "outputId": "b6a13cd7-bffc-45b9-fb1a-05760f1ec597"
   },
   "outputs": [],
   "source": [
    "# Посмотрим внимательно на графики еще раз\n",
    "analyze_cat_cols('fuelType')"
   ]
  },
  {
   "cell_type": "code",
   "execution_count": null,
   "id": "rZRcC-tmv4aB",
   "metadata": {
    "colab": {
     "base_uri": "https://localhost:8080/"
    },
    "id": "rZRcC-tmv4aB",
    "outputId": "8a9f04dc-86f1-4760-eb63-3cf674151a4c"
   },
   "outputs": [],
   "source": [
    "# Посмотрим, какие бренды представлены в \"электро\" типе топлива в трейне и тесте\n",
    "data[data['fuelType'] == 'электро'].groupby(\n",
    "    ['train', 'brand'])['bodyType'].count()"
   ]
  },
  {
   "cell_type": "markdown",
   "id": "EfuM_lCTv79g",
   "metadata": {
    "id": "EfuM_lCTv79g"
   },
   "source": [
    "Выводы:\n",
    "\n",
    "Перечень категорий цветов идентичен в train и test.\n",
    "Категории для данного признака оставим, как есть, т.к. сильно влияет на распределение цен.\n",
    "[ ] идея для генерации нового признака - добавить флаг \"электрокар\".\n",
    "Использовать информацию по распределению типа топлива-бренд между трейн и тестом для обработки выбросов."
   ]
  },
  {
   "cell_type": "markdown",
   "id": "nFC0vtLDv-SA",
   "metadata": {
    "id": "nFC0vtLDv-SA"
   },
   "source": [
    "#### numberOfDoors\n",
    "\n",
    "Во время предварительного анализа появилась идея изучить значение 0 - выброс/ошибка или валидная запись."
   ]
  },
  {
   "cell_type": "code",
   "execution_count": null,
   "id": "ebmRk4_Pv__l",
   "metadata": {
    "colab": {
     "base_uri": "https://localhost:8080/",
     "height": 236
    },
    "id": "ebmRk4_Pv__l",
    "outputId": "c8f0bcfa-2bca-44f0-9ff8-71d3be6ec03b"
   },
   "outputs": [],
   "source": [
    "# Посмотрим на записи с кол-вом дверей менее 2\n",
    "data[data.numberOfDoors < 2]"
   ]
  },
  {
   "cell_type": "markdown",
   "id": "5HYPLjl6wCMw",
   "metadata": {
    "id": "5HYPLjl6wCMw"
   },
   "source": [
    "Все в порядке - это раритетные машины, более того 1 из test, 1 из train, оставляем."
   ]
  },
  {
   "cell_type": "markdown",
   "id": "49WxAGirwEU8",
   "metadata": {
    "id": "49WxAGirwEU8"
   },
   "source": [
    "#### description\n",
    "\n",
    "Посмотрим на признак повнимательнее и подумаем, что мы можем из него извлечь."
   ]
  },
  {
   "cell_type": "code",
   "execution_count": null,
   "id": "DcyaUd5UwFuh",
   "metadata": {
    "colab": {
     "base_uri": "https://localhost:8080/",
     "height": 35
    },
    "id": "DcyaUd5UwFuh",
    "outputId": "e396d694-42ed-4f58-8ed1-02a017d5f4e6"
   },
   "outputs": [],
   "source": [
    "# Описание в train\n",
    "data[data.train == 1]['description'].iloc[25]"
   ]
  },
  {
   "cell_type": "code",
   "execution_count": null,
   "id": "WeWc6aqOwJFr",
   "metadata": {
    "colab": {
     "base_uri": "https://localhost:8080/",
     "height": 139
    },
    "id": "WeWc6aqOwJFr",
    "outputId": "191cb403-4468-4af8-c5e5-d5519eef0a08"
   },
   "outputs": [],
   "source": [
    "# Описание в test\n",
    "data[data.train == 0]['description'].iloc[18]"
   ]
  },
  {
   "cell_type": "markdown",
   "id": "FurOVzSswU_4",
   "metadata": {
    "id": "FurOVzSswU_4"
   },
   "source": [
    "Для анализа всего текста времени нет, но можно попробовать извлечь признаки количества слов в объявлении."
   ]
  },
  {
   "cell_type": "markdown",
   "id": "hsxJlXsxwWCt",
   "metadata": {
    "id": "hsxJlXsxwWCt"
   },
   "source": [
    "#### Преобразование бинарных переменных в числа\n",
    "Чтобы алгоритмы машинного обучения могли работать с категориальными данными, их нужно преобразовать в числа. Применим LabelEncoder ко всему набору бинарных переменных."
   ]
  },
  {
   "cell_type": "code",
   "execution_count": null,
   "id": "9yYkO7euwZxd",
   "metadata": {
    "colab": {
     "base_uri": "https://localhost:8080/",
     "height": 237
    },
    "id": "9yYkO7euwZxd",
    "outputId": "700e5942-bf53-42e0-b42e-a3590779a914"
   },
   "outputs": [],
   "source": [
    "# Для бинарных признаков мы будем использовать LabelEncoder\n",
    "label_encoder = LabelEncoder()\n",
    "\n",
    "for column in bin_cols:\n",
    "    data[column] = label_encoder.fit_transform(data[column])\n",
    "\n",
    "# Убедимся в преобразовании\n",
    "data[bin_cols].sample(6)"
   ]
  },
  {
   "cell_type": "markdown",
   "id": "IZqT-A5twdLm",
   "metadata": {
    "id": "IZqT-A5twdLm"
   },
   "source": [
    "#### Анализ целевой переменной price"
   ]
  },
  {
   "cell_type": "code",
   "execution_count": null,
   "id": "aE4wtCsMwfQ9",
   "metadata": {
    "colab": {
     "base_uri": "https://localhost:8080/"
    },
    "id": "aE4wtCsMwfQ9",
    "outputId": "a45049f0-8d2a-417d-bc92-6b5936bdd318"
   },
   "outputs": [],
   "source": [
    "# Посмотрим на основные статистики\n",
    "print(data[data.train == 1]['price'].describe())"
   ]
  },
  {
   "cell_type": "code",
   "execution_count": null,
   "id": "t7m03Y6Qwhbk",
   "metadata": {
    "colab": {
     "base_uri": "https://localhost:8080/",
     "height": 370
    },
    "id": "t7m03Y6Qwhbk",
    "outputId": "baa1e9fe-adde-4b09-fd7f-10775578e94d"
   },
   "outputs": [],
   "source": [
    "# Посмотрим на распределение целевой переменной\n",
    "fig, ax = plt.subplots(figsize=(10, 5))\n",
    "sns.histplot(data=data[data.train == 1], x='price')\n",
    "plt.title(\"Распределение целевой переменной \\n\")\n",
    "plt.show()"
   ]
  },
  {
   "cell_type": "markdown",
   "id": "AnEPyNSNwkL6",
   "metadata": {
    "id": "AnEPyNSNwkL6"
   },
   "source": [
    "Распределение цены с очень сильным правым хвостом, попробуем добавить доп. целевой признак, взяв логорифм от цены."
   ]
  },
  {
   "cell_type": "markdown",
   "id": "BdOLTIOIwk1i",
   "metadata": {
    "id": "BdOLTIOIwk1i"
   },
   "source": [
    "#### price_log\n",
    "Логарифм от цены."
   ]
  },
  {
   "cell_type": "code",
   "execution_count": null,
   "id": "ulQOee8FwmOL",
   "metadata": {
    "id": "ulQOee8FwmOL"
   },
   "outputs": [],
   "source": [
    "# Добавляем новый признка\n",
    "data['price_log'] = data['price'].apply(lambda x: np.log(x))\n",
    "\n",
    "# Добавим новый признак в список целевых\n",
    "target_col.append('price_log')"
   ]
  },
  {
   "cell_type": "code",
   "execution_count": null,
   "id": "3z_Td_FKwrCY",
   "metadata": {
    "colab": {
     "base_uri": "https://localhost:8080/",
     "height": 370
    },
    "id": "3z_Td_FKwrCY",
    "outputId": "9f53bc0d-a5db-4b24-873d-c284376008e8"
   },
   "outputs": [],
   "source": [
    "# Посмотрим, как изменилось распределение целевой переменной\n",
    "fig, ax = plt.subplots(figsize=(10, 5))\n",
    "sns.histplot(data=data[data.train == 1], x='price_log')\n",
    "plt.title(\"Распределение целевой переменной \\n\")\n",
    "plt.show()"
   ]
  },
  {
   "cell_type": "markdown",
   "id": "dw1BqGVlwtzS",
   "metadata": {
    "id": "dw1BqGVlwtzS"
   },
   "source": [
    "Вывод: распределение выглядит, как нормальное. Используем для моделирования."
   ]
  },
  {
   "cell_type": "markdown",
   "id": "Rh6pSZ8DwuZq",
   "metadata": {
    "id": "Rh6pSZ8DwuZq"
   },
   "source": [
    "### Идеи по генерации новых признаков по результатам EDA:\n",
    "\n",
    "[x] km_per_year - показывает, сколько км в год проезжал автомобиль. Вычисляется, как mileage/productionDate(years) или mileage/ownershipTime. Решить, какой метод использовать\n",
    "[x] carNovelty - показывает, через сколько лет после выхода модели был выпущен автомобиль, т.е. modelDate - productionDate. Гипотеза, что чем меньше это число, тем выше будет цена\n",
    "[x] `rarity - признак, показывающий, что автомобиль раритетный (ему более 30 лет)\n",
    "[x] prodDate_3Y - признак, что автомобилю уже 3 года\n",
    "[x] prodDate_5Y - признак, что автомобилю уже 5 лет\n",
    "[x] colorPopular - признак для обозначения, что авто популярного цвета: 1 - популярного, 0 - непопулярного\n",
    "[x] brandPopular - признак для обозначения, что авто популярной марки: 1 - популярного, 0 - непопулярного\n",
    "[x] modelPopular - признак для обозначения, что авто популярной модели в рамках бренда: 1 - популярного, 0 - непопулярного"
   ]
  },
  {
   "cell_type": "code",
   "execution_count": null,
   "id": "g9-d9-f2ww_b",
   "metadata": {
    "id": "g9-d9-f2ww_b"
   },
   "outputs": [],
   "source": [
    "# Для упрощения повторного анализа для новых признаков добавим списки\n",
    "cat_cols_new = []\n",
    "num_cols_new = []\n",
    "bin_cols_new = []"
   ]
  },
  {
   "cell_type": "markdown",
   "id": "jmChZhp8wz4r",
   "metadata": {
    "id": "jmChZhp8wz4r"
   },
   "source": [
    "#### km_per_year\n",
    "\n",
    "Пробег авто км/год."
   ]
  },
  {
   "cell_type": "code",
   "execution_count": null,
   "id": "BKqiME8Pw1gd",
   "metadata": {
    "id": "BKqiME8Pw1gd"
   },
   "outputs": [],
   "source": [
    "# Добавим дополнительный признак 'km_per_year', который равен пробегу, поделенному на возраст авто,\n",
    "data['km_per_year'] = data.apply(km_per_year, axis=1)"
   ]
  },
  {
   "cell_type": "code",
   "execution_count": null,
   "id": "3Tsl634Cw4Y5",
   "metadata": {
    "colab": {
     "base_uri": "https://localhost:8080/",
     "height": 363
    },
    "id": "3Tsl634Cw4Y5",
    "outputId": "a5c0821c-aee9-446a-a1b2-f92e1d20523b"
   },
   "outputs": [],
   "source": [
    "print(\"Диаграмы распределения km_per_year признака, взаимосвязь с целевой переменной\")\n",
    "\n",
    "fig, axes = plt.subplots(1, 3, figsize=(20, 5))\n",
    "plt.subplots_adjust(wspace=0.5)\n",
    "axes = axes.flatten()\n",
    "\n",
    "sns.distplot(data['km_per_year'], ax=axes[0])\n",
    "sns.boxplot(data['km_per_year'], ax=axes[1])\n",
    "sns.scatterplot(data=data[data['train'] == 1],\n",
    "                x='km_per_year', y=\"price\", ax=axes[2])\n",
    "plt.show()"
   ]
  },
  {
   "cell_type": "markdown",
   "id": "WC_7xr-Uw7Fo",
   "metadata": {
    "id": "WC_7xr-Uw7Fo"
   },
   "source": [
    "Вывод: все равно есть правых хвост. Нужно или убрать выбросы, или попробовать логарифмирование."
   ]
  },
  {
   "cell_type": "code",
   "execution_count": null,
   "id": "dPmsMlyNw9Iv",
   "metadata": {
    "id": "dPmsMlyNw9Iv"
   },
   "outputs": [],
   "source": [
    "# добавляем новый признак к числовым\n",
    "num_cols.append('km_per_year')"
   ]
  },
  {
   "cell_type": "code",
   "execution_count": null,
   "id": "sLF7s-TCw-x4",
   "metadata": {
    "id": "sLF7s-TCw-x4"
   },
   "outputs": [],
   "source": [
    "num_cols_new.append('km_per_year')"
   ]
  },
  {
   "cell_type": "markdown",
   "id": "25aSRrLTxBTp",
   "metadata": {
    "id": "25aSRrLTxBTp"
   },
   "source": [
    "#### carNovelty\n",
    "\n",
    "Новизна машины: через сколько лет после появления модели авто была произведена машина."
   ]
  },
  {
   "cell_type": "code",
   "execution_count": null,
   "id": "wR6bRa67xCC-",
   "metadata": {
    "id": "wR6bRa67xCC-"
   },
   "outputs": [],
   "source": [
    "# Добавим'dateModelProdDiff', равный разнице между годом выпуска авто и годом начала производства модели\n",
    "data['carNovelty'] = data['productionDate'] - data['modelDate']"
   ]
  },
  {
   "cell_type": "code",
   "execution_count": null,
   "id": "9zSP91T1xEn4",
   "metadata": {
    "colab": {
     "base_uri": "https://localhost:8080/",
     "height": 206
    },
    "id": "9zSP91T1xEn4",
    "outputId": "2c2989cd-9a7c-438c-fe2b-273481bfde80"
   },
   "outputs": [],
   "source": [
    "# Посмотрим, что получилось\n",
    "data[['productionDate', 'modelDate', 'mileage',\n",
    "      'km_per_year', 'carNovelty']].sample(5)"
   ]
  },
  {
   "cell_type": "code",
   "execution_count": null,
   "id": "bzRDFGiJxHPX",
   "metadata": {
    "id": "bzRDFGiJxHPX"
   },
   "outputs": [],
   "source": [
    "# Заменим отрицательные значение на 0\n",
    "data['carNovelty'] = data['carNovelty'].apply(lambda x: 0 if x < 0 else x)"
   ]
  },
  {
   "cell_type": "code",
   "execution_count": null,
   "id": "w1PGI6vsxJom",
   "metadata": {
    "id": "w1PGI6vsxJom"
   },
   "outputs": [],
   "source": [
    "# добавляем новый признак к числовым\n",
    "num_cols.append('carNovelty')\n",
    "num_cols_new.append('carNovelty')"
   ]
  },
  {
   "cell_type": "markdown",
   "id": "rgBdQyy9xRhC",
   "metadata": {
    "id": "rgBdQyy9xRhC"
   },
   "source": [
    "#### prodDate_3Y, prodDate_5Y\n",
    "\n",
    "prodDate_3Y - признак, что автомобилю уже 3 года\n",
    "prodDate_5Y - признак, что автомобилю уже 5 лет."
   ]
  },
  {
   "cell_type": "code",
   "execution_count": null,
   "id": "r0nZSmN3xS9S",
   "metadata": {
    "id": "r0nZSmN3xS9S"
   },
   "outputs": [],
   "source": [
    "# Добавляем новые признаки\n",
    "data['prodDate_3Y'] = data.apply(prod_date_range, year_lim=3, axis=1)\n",
    "data['prodDate_5Y'] = data.apply(prod_date_range, year_lim=5, axis=1)"
   ]
  },
  {
   "cell_type": "code",
   "execution_count": null,
   "id": "tx1HPGDqxVRf",
   "metadata": {
    "colab": {
     "base_uri": "https://localhost:8080/",
     "height": 206
    },
    "id": "tx1HPGDqxVRf",
    "outputId": "bffcf40f-7963-4918-e163-ea184c72bfb0"
   },
   "outputs": [],
   "source": [
    "# Проверяем результат\n",
    "data[['prodDate_3Y', 'prodDate_5Y',\n",
    "      'productionDate', 'parsing_date']].sample(5)"
   ]
  },
  {
   "cell_type": "code",
   "execution_count": null,
   "id": "mRiYpfRZxXoQ",
   "metadata": {
    "id": "mRiYpfRZxXoQ"
   },
   "outputs": [],
   "source": [
    "# Добавляем новые признаки к бинарным\n",
    "bin_cols.append('prodDate_3Y')\n",
    "bin_cols.append('prodDate_5Y')\n",
    "bin_cols_new.append('prodDate_3Y')\n",
    "bin_cols_new.append('prodDate_5Y')"
   ]
  },
  {
   "cell_type": "markdown",
   "id": "rh9tiu7OxbPg",
   "metadata": {
    "id": "rh9tiu7OxbPg"
   },
   "source": [
    "#### brandPopular\n",
    "\n",
    "[x] флаг популярного авто: за ориентир взять значение data['brand'].value_counts() > data['brand'].value_counts().values.mean() или добавить соотношение кол-ва машин бренда к общему кол-ву объявлений\n",
    "[ ] обычно на цену сильно влияет класс автомобиля (brand + bodyType) попробовать добавить признак с помощью метода главных компонент"
   ]
  },
  {
   "cell_type": "code",
   "execution_count": null,
   "id": "hXeLCicsxcVk",
   "metadata": {
    "colab": {
     "base_uri": "https://localhost:8080/",
     "height": 206
    },
    "id": "hXeLCicsxcVk",
    "outputId": "261b5427-dcd4-40fc-ddc6-f81ccadf2113"
   },
   "outputs": [],
   "source": [
    "# Создадим датафрейс со значениями количества автомобилей в выборке по маркам\n",
    "brand_df = pd.DataFrame(data['brand'].value_counts())\n",
    "# Среднее по всем значениям бренда\n",
    "mean_brand = data['brand'].value_counts().values.mean()\n",
    "# Добавляем признак во временный датафрейм\n",
    "brand_df['brandPopular'] = brand_df.brand.apply(\n",
    "    lambda x: 1 if x >= mean_brand else 0)\n",
    "# Удалим ненужный столбец\n",
    "brand_df.drop('brand', axis=1, inplace=True)\n",
    "# Создаем словарь популярности брендов\n",
    "dict_brand = brand_df.to_dict()['brandPopular']\n",
    "# Создаем новый признак\n",
    "data['brandPopular'] = data.brand.copy()\n",
    "data['brandPopular'].replace(to_replace=dict_brand, inplace=True)\n",
    "# Проверяем результат\n",
    "data[['brand', 'brandPopular']].sample(5)"
   ]
  },
  {
   "cell_type": "code",
   "execution_count": null,
   "id": "XRwynbGOxgsa",
   "metadata": {
    "id": "XRwynbGOxgsa"
   },
   "outputs": [],
   "source": [
    "# Добавляем новый признак к бинарным\n",
    "bin_cols.append('brandPopular')\n",
    "bin_cols_new.append('brandPopular')"
   ]
  },
  {
   "cell_type": "markdown",
   "id": "jUSmgbfYxi2W",
   "metadata": {
    "id": "jUSmgbfYxi2W"
   },
   "source": [
    "#### modelPopular\n",
    "\n",
    "Добавить признак популярности модели."
   ]
  },
  {
   "cell_type": "code",
   "execution_count": null,
   "id": "ixoJovAQxjz4",
   "metadata": {
    "colab": {
     "base_uri": "https://localhost:8080/",
     "height": 206
    },
    "id": "ixoJovAQxjz4",
    "outputId": "fdc99337-b941-4cae-8fd1-b17450bc612c"
   },
   "outputs": [],
   "source": [
    "# Создаем пустой словарь всех моделей\n",
    "model_dict = {}\n",
    "\n",
    "for item in data.brand.unique():\n",
    "    model_df = pd.DataFrame(data[data.brand == item]['model'].value_counts())\n",
    "    # Среднее по всем значениям моделей бренда\n",
    "    mean_model = data[data.brand == item]['model'].value_counts().values.mean()\n",
    "    # Добавляем признак во временный датафрейм\n",
    "    model_df['modelPopular'] = model_df.model.apply(\n",
    "        lambda x: 1 if x >= mean_model else 0)\n",
    "    # Удалим ненужный столбец\n",
    "    model_df.drop('model', axis=1, inplace=True)\n",
    "    # Создаем словарь популярности брендов\n",
    "    dict_model_per_brand = model_df.to_dict()['modelPopular']\n",
    "    model_dict.update(dict_model_per_brand)\n",
    "\n",
    "# Создаем новый признак\n",
    "data['modelPopular'] = data.model.copy()\n",
    "data['modelPopular'].replace(to_replace=model_dict, inplace=True)\n",
    "# Проверяем результат\n",
    "data[['model', 'modelPopular']].sample(5)"
   ]
  },
  {
   "cell_type": "code",
   "execution_count": null,
   "id": "CWmiPcXkxpsX",
   "metadata": {
    "id": "CWmiPcXkxpsX"
   },
   "outputs": [],
   "source": [
    "# Добавляем новый признак к бинарным\n",
    "bin_cols.append('modelPopular')\n",
    "bin_cols_new.append('modelPopular')"
   ]
  },
  {
   "cell_type": "markdown",
   "id": "435VyevExsby",
   "metadata": {
    "id": "435VyevExsby"
   },
   "source": [
    "#### colorPopular\n",
    "\n",
    "Создадим признак популярного цвета авто. Популярным считаем цвет, который встречается чаще, чем среднее по всем значениям распределения цвета в выборке:\n",
    "\n",
    "1 - популярный цвет\n",
    "0 - непопулярный цвет."
   ]
  },
  {
   "cell_type": "code",
   "execution_count": null,
   "id": "61x6vnX7xt1G",
   "metadata": {
    "colab": {
     "base_uri": "https://localhost:8080/",
     "height": 775
    },
    "id": "61x6vnX7xt1G",
    "outputId": "63112ab8-1026-42dd-c1e1-b1b1c845ccb0"
   },
   "outputs": [],
   "source": [
    "# Создадим отдельный датафрейм color_df со столбцами color, counts, colorPopularity\n",
    "color_df = pd.DataFrame(data['color'].value_counts()).reset_index()\n",
    "\n",
    "# Среднее по всем значениям цвета\n",
    "mean = color_df.color.mean()\n",
    "\n",
    "# Добавляем признак\n",
    "color_df['colorPopular'] = color_df.color.apply(lambda x: round(x/mean, 2))\n",
    "\n",
    "# Удаляем лишние колонки и переименовываем\n",
    "color_df.drop('color', axis=1, inplace=True)\n",
    "color_df.rename(columns={\"index\": \"color\"}, inplace=True)\n",
    "\n",
    "# Посмотрим на результат\n",
    "print(\"Относительная частота цвета по всей выборке.\")\n",
    "display(color_df)\n",
    "\n",
    "# Мержим с датасетом\n",
    "data = pd.merge(data, color_df, on=\"color\", how=\"left\")\n",
    "\n",
    "# Выведем на экран итоговые пример\n",
    "print(\"Пример данных в датафрейме.\")\n",
    "data[['color', 'colorPopular']].sample(5)"
   ]
  },
  {
   "cell_type": "code",
   "execution_count": null,
   "id": "0nIQwucrxzAd",
   "metadata": {
    "id": "0nIQwucrxzAd"
   },
   "outputs": [],
   "source": [
    "# Вариант не числового а бинарного кодирования популярности авто\n",
    "data['colorPopular'] = data['colorPopular'].apply(lambda x: 1 if x >= 1 else 0)"
   ]
  },
  {
   "cell_type": "markdown",
   "id": "p7TmLrvex7me",
   "metadata": {
    "id": "p7TmLrvex7me"
   },
   "source": [
    "Вариант бинарного кодирования оказал лучшее влияние на метрику качества, чем числовые значения долей цвета автомобиля. Оставляем признак в бинарном виде."
   ]
  },
  {
   "cell_type": "code",
   "execution_count": null,
   "id": "PWHO9govx833",
   "metadata": {
    "colab": {
     "base_uri": "https://localhost:8080/",
     "height": 206
    },
    "id": "PWHO9govx833",
    "outputId": "450096d2-0b19-4378-8270-35b1eb72800f"
   },
   "outputs": [],
   "source": [
    "data[['color', 'colorPopular']].sample(5)"
   ]
  },
  {
   "cell_type": "code",
   "execution_count": null,
   "id": "tWsENiH5x_yc",
   "metadata": {
    "id": "tWsENiH5x_yc"
   },
   "outputs": [],
   "source": [
    "# Добавляем новый признак к бинарным\n",
    "bin_cols.append('colorPopular')\n",
    "bin_cols_new.append('colorPopular')"
   ]
  },
  {
   "cell_type": "markdown",
   "id": "QXSp4uvIyByl",
   "metadata": {
    "id": "QXSp4uvIyByl"
   },
   "source": [
    "#### description_words_count\n",
    "\n",
    "Признак количества слов в описании."
   ]
  },
  {
   "cell_type": "code",
   "execution_count": null,
   "id": "NISVNojGyCg8",
   "metadata": {
    "id": "NISVNojGyCg8"
   },
   "outputs": [],
   "source": [
    "# Заполним пропуски\n",
    "data['description'] = data['description'].fillna('[]')\n",
    "# Создаем новый признак количества слов в описании\n",
    "data['description_words_count'] = data['description'].apply(\n",
    "    lambda x: len(x.split()))"
   ]
  },
  {
   "cell_type": "code",
   "execution_count": null,
   "id": "P6wdng5FyFBA",
   "metadata": {
    "id": "P6wdng5FyFBA"
   },
   "outputs": [],
   "source": [
    "# Добавляем новый признак к числовым\n",
    "num_cols.append('description_words_count')\n",
    "num_cols_new.append('description_words_count')"
   ]
  },
  {
   "cell_type": "markdown",
   "id": "STJu-jsZyHdu",
   "metadata": {
    "id": "STJu-jsZyHdu"
   },
   "source": [
    "#### Посмотрим на распределение новых признаков"
   ]
  },
  {
   "cell_type": "code",
   "execution_count": null,
   "id": "dlBq3GaAyIJQ",
   "metadata": {
    "colab": {
     "base_uri": "https://localhost:8080/",
     "height": 795
    },
    "id": "dlBq3GaAyIJQ",
    "outputId": "25d8af9e-937c-4a60-b018-52d42db3a097"
   },
   "outputs": [],
   "source": [
    "print(\"Диаграмы распределения новых числовых признаков, взаимосвязь с целевой переменной\")\n",
    "\n",
    "fig, axes = plt.subplots(len(num_cols_new), 3, figsize=(30, 20))\n",
    "plt.subplots_adjust(wspace=0.5)\n",
    "axes = axes.flatten()\n",
    "i = 0\n",
    "\n",
    "for col in num_cols_new:\n",
    "    sns.distplot(data[col], ax=axes[i])\n",
    "    i = i + 1\n",
    "    sns.boxplot(data[col], ax=axes[i])\n",
    "    i = i + 1\n",
    "    sns.scatterplot(data=data[data['train'] == 1],\n",
    "                    x=col, y=\"price\", ax=axes[i])\n",
    "    i = i + 1"
   ]
  },
  {
   "cell_type": "code",
   "execution_count": null,
   "id": "Cq0RXnGbyMaw",
   "metadata": {
    "colab": {
     "base_uri": "https://localhost:8080/",
     "height": 1000
    },
    "id": "Cq0RXnGbyMaw",
    "outputId": "31c5abe9-db57-4769-e90a-bdee9cb61850"
   },
   "outputs": [],
   "source": [
    "# Посмотрим внимательно на графики еще раз\n",
    "for col in (bin_cols_new+cat_cols_new):\n",
    "    print(\"Графики для переменной \", col)\n",
    "    analyze_cat_cols(col)\n",
    "    print(\"\\n\")"
   ]
  },
  {
   "cell_type": "markdown",
   "id": "den8BWG-yPdi",
   "metadata": {
    "id": "den8BWG-yPdi"
   },
   "source": [
    "Выводы:\n",
    "\n",
    "У числовых признаков опять тяжелый правый хвост. Попробовать работу с выбросами и логарифмирование признаков.\n",
    "Визуально добавленные признаки статистически значимы и оказывают влияние на формирование цены. Проверим это на этапе отбора признаков."
   ]
  },
  {
   "cell_type": "markdown",
   "id": "j1n6L1FAyQG6",
   "metadata": {
    "id": "j1n6L1FAyQG6"
   },
   "source": [
    "### Обработка выбросов\n",
    "Признаки проанализированы, новые фичи созданы. Проведем поиск, анализ и обработку выбросов для числовых и категориальных признаков. Бинарные признаки не смотрим, т.к. мы их анализировали ранее и в них содержатся допустимые значения [0, 1]."
   ]
  },
  {
   "cell_type": "code",
   "execution_count": null,
   "id": "8_-qq0IKyTPF",
   "metadata": {
    "colab": {
     "base_uri": "https://localhost:8080/"
    },
    "id": "8_-qq0IKyTPF",
    "outputId": "81cf25e8-c8f1-44dd-d99d-028c39996b71"
   },
   "outputs": [],
   "source": [
    "# Проанализируем выбросы для категориальных и номинативных признаков\n",
    "print(\"Отчет о наличии выбросов в датасете.\\n\")\n",
    "for col in (num_cols + target_col):\n",
    "    print(\"\\nПризнак: \", col)\n",
    "    iqr_analysis(data[col])\n",
    "    print(\"-\" * 100)"
   ]
  },
  {
   "cell_type": "markdown",
   "id": "rV8qsm8WyVZA",
   "metadata": {
    "id": "rV8qsm8WyVZA"
   },
   "source": [
    "Оставляем выбросы по признакам modelDate, productionDate, carNovelty. По остальным выбросам проведем анализ и обработку."
   ]
  },
  {
   "cell_type": "markdown",
   "id": "pigui6rGyWIv",
   "metadata": {
    "id": "pigui6rGyWIv"
   },
   "source": [
    "Посмотрим детальнее на признаки, где были найдены выбросы. Основная идея: сравнить мин/макс границы по test датасету и удалить лишние данные, если их объем не очень большой."
   ]
  },
  {
   "cell_type": "markdown",
   "id": "_EE2QEkpyYBt",
   "metadata": {
    "id": "_EE2QEkpyYBt"
   },
   "source": [
    "#### enginePower"
   ]
  },
  {
   "cell_type": "code",
   "execution_count": null,
   "id": "m7DGqsVSyaH7",
   "metadata": {
    "colab": {
     "base_uri": "https://localhost:8080/"
    },
    "id": "m7DGqsVSyaH7",
    "outputId": "a7ea2abe-9fdf-4de9-b584-634fc3f110d2"
   },
   "outputs": [],
   "source": [
    "# Посмотрим на максимальные значения признака в test\n",
    "test.enginePower.max()"
   ]
  },
  {
   "cell_type": "code",
   "execution_count": null,
   "id": "szoME8QPycxi",
   "metadata": {
    "colab": {
     "base_uri": "https://localhost:8080/",
     "height": 370
    },
    "id": "szoME8QPycxi",
    "outputId": "c2df9ea6-77f2-4cd0-fea3-a2714335c9ae"
   },
   "outputs": [],
   "source": [
    "# Посмотрим на распределение выбросов\n",
    "fig, ax = plt.subplots(figsize=(10, 5))\n",
    "sns.histplot(data=data[(data.enginePower > 351)], x='enginePower', hue = 'train')\n",
    "plt.title(\"Распределение выбросов EnginePower в датасете \\n\")\n",
    "plt.show()"
   ]
  },
  {
   "cell_type": "code",
   "execution_count": null,
   "id": "mrkNBC5kye5y",
   "metadata": {
    "colab": {
     "base_uri": "https://localhost:8080/",
     "height": 370
    },
    "id": "mrkNBC5kye5y",
    "outputId": "5aa2490e-19bb-4bd7-c16a-19e4d44c5223"
   },
   "outputs": [],
   "source": [
    "# Посмотрим на распределение выбросов\n",
    "fig, ax = plt.subplots(figsize=(10, 5))\n",
    "sns.regplot(data=data[(data.enginePower > 351) & (\n",
    "    data.train == 1)], x=\"enginePower\", y=\"price\")\n",
    "plt.title(\"Зависимость price от EnginePower в train на выбросах по EnginePower \\n\")\n",
    "plt.show()"
   ]
  },
  {
   "cell_type": "markdown",
   "id": "vVRqlVODyiB0",
   "metadata": {
    "id": "vVRqlVODyiB0"
   },
   "source": [
    "Выбросы по признаку представлены как в train, так и в test части. Удалять строки нельзя, т.к. необходимо строить предсказания по большим значениям enginePower.\n",
    "Цена варьируется и увеличивается с увеличением мощности двигателя, заменять выбросы на другую величину не стоит.\n",
    "Можно попробовать логарифмировать переменную."
   ]
  },
  {
   "cell_type": "markdown",
   "id": "qZbKDkhCyj2J",
   "metadata": {
    "id": "qZbKDkhCyj2J"
   },
   "source": [
    "#### mileage"
   ]
  },
  {
   "cell_type": "code",
   "execution_count": null,
   "id": "vHpWbxYIykaO",
   "metadata": {
    "colab": {
     "base_uri": "https://localhost:8080/"
    },
    "id": "vHpWbxYIykaO",
    "outputId": "c91b3bb2-585a-4298-c547-3756cef3bc10"
   },
   "outputs": [],
   "source": [
    "# Посмотрим на максимальные значения признака в test\n",
    "test.mileage.max()"
   ]
  },
  {
   "cell_type": "code",
   "execution_count": null,
   "id": "o0-zxpFvym7D",
   "metadata": {
    "colab": {
     "base_uri": "https://localhost:8080/",
     "height": 370
    },
    "id": "o0-zxpFvym7D",
    "outputId": "70bf1683-f1e0-4150-e500-81e91549537b"
   },
   "outputs": [],
   "source": [
    "# Посмотрим на распределение выбросов\n",
    "fig, ax = plt.subplots(figsize=(10, 5))\n",
    "sns.histplot(data=data[(data.mileage > 386527)], x='mileage', hue = 'train')\n",
    "plt.title(\"Распределение выбросов mileage в датасете \\n\")\n",
    "plt.show()"
   ]
  },
  {
   "cell_type": "code",
   "execution_count": null,
   "id": "yi6ncNCiyopw",
   "metadata": {
    "colab": {
     "base_uri": "https://localhost:8080/",
     "height": 479
    },
    "id": "yi6ncNCiyopw",
    "outputId": "ed13caaf-a6fd-4d29-8e99-5346c07a21ca"
   },
   "outputs": [],
   "source": [
    "# Посмотрим на распределение выбросов\n",
    "fig, ax = plt.subplots(figsize=(10, 7))\n",
    "sns.regplot(data=data[(data.mileage > 386527) & (\n",
    "    data.train == 1)], x=\"mileage\", y=\"price\")\n",
    "plt.title(\"Зависимость price от mileage в train на выбросах по mileage \\n\")\n",
    "plt.show()"
   ]
  },
  {
   "cell_type": "markdown",
   "id": "5Wlgbnytyqyb",
   "metadata": {
    "id": "5Wlgbnytyqyb"
   },
   "source": [
    "Выбросы по признаку представлены как в train, так и в test части. Удалять строки нельзя, т.к. необходимо строить предсказания по большим значениям mileage.\n",
    "Цена варьируется и снижается с увеличением пробега, но есть и увеличение цены на макимальных значениях пробега, заменять выбросы на другую величину не стоит.\n",
    "Можно попробовать логарифмировать переменную."
   ]
  },
  {
   "cell_type": "markdown",
   "id": "Hsv4MnlZyssW",
   "metadata": {
    "id": "Hsv4MnlZyssW"
   },
   "source": [
    "#### engineDisplacement\n",
    "\n",
    "Признак позднее исключается из анализа."
   ]
  },
  {
   "cell_type": "code",
   "execution_count": null,
   "id": "fqth2i2uytbg",
   "metadata": {
    "colab": {
     "base_uri": "https://localhost:8080/"
    },
    "id": "fqth2i2uytbg",
    "outputId": "152ee3fd-0826-4590-81fd-8fa5dff131b1"
   },
   "outputs": [],
   "source": [
    "# Посмотрим на максимальные значения признака в test\n",
    "print(\"Максимальное значение engineDisplacement  в test:\", test.engineDisplacement.max())\n",
    "# Посмотрим на минимальное значения признака в test\n",
    "print(\"Минимальное значение engineDisplacement  в test:\", test.engineDisplacement.min())"
   ]
  },
  {
   "cell_type": "code",
   "execution_count": null,
   "id": "3PxVmQ53yvlU",
   "metadata": {
    "colab": {
     "base_uri": "https://localhost:8080/",
     "height": 370
    },
    "id": "3PxVmQ53yvlU",
    "outputId": "1d769980-47b1-4d6f-9c16-13c6ae0c537c"
   },
   "outputs": [],
   "source": [
    "# Посмотрим на распределение выбросов\n",
    "fig, ax = plt.subplots(figsize=(10, 5))\n",
    "sns.histplot(data=data[(data.engineDisplacement > 4.8)], x='engineDisplacement', hue = 'train')\n",
    "plt.title(\"Распределение выбросов engineDisplacement в датасете \\n\")\n",
    "plt.show()"
   ]
  },
  {
   "cell_type": "code",
   "execution_count": null,
   "id": "fPdodIrayxdS",
   "metadata": {
    "colab": {
     "base_uri": "https://localhost:8080/",
     "height": 479
    },
    "id": "fPdodIrayxdS",
    "outputId": "1b644996-a169-426d-d57f-a3138ed1481d"
   },
   "outputs": [],
   "source": [
    "# Посмотрим на распределение выбросов\n",
    "fig, ax = plt.subplots(figsize=(10, 7))\n",
    "sns.regplot(data=data[(data.engineDisplacement > 3.8) & (\n",
    "    data.train == 1)], x=\"engineDisplacement\", y=\"price\")\n",
    "plt.title(\"Зависимость price от engineDisplacement в train на выбросах по engineDisplacement \\n\")\n",
    "plt.show()"
   ]
  },
  {
   "cell_type": "code",
   "execution_count": null,
   "id": "eicTA176y0r3",
   "metadata": {
    "colab": {
     "base_uri": "https://localhost:8080/",
     "height": 320
    },
    "id": "eicTA176y0r3",
    "outputId": "a9c98af7-bed6-4388-c3fd-48b952893b49"
   },
   "outputs": [],
   "source": [
    "# Посмотрим на записи, которые привышают максимальный порог test\n",
    "data[(data.engineDisplacement > 6.6)].describe()"
   ]
  },
  {
   "cell_type": "markdown",
   "id": "XoNiFDCiy27d",
   "metadata": {
    "id": "XoNiFDCiy27d"
   },
   "source": [
    "Выбросы по признаку представлены как в train, так и в test части. Цена варьируется и увеличивается с увеличением объема двигателя (до определенного значения). Можно попробовать логарифмировать переменную. Также можно попробовать обработать выбросы заменой в строках > 6.6 литров на максимальное значение из теста."
   ]
  },
  {
   "cell_type": "code",
   "execution_count": null,
   "id": "3k5IK9jFy3vh",
   "metadata": {
    "id": "3k5IK9jFy3vh"
   },
   "outputs": [],
   "source": [
    "## Заменяем выбросы на максимальное значение признака в тесте\n",
    "data.engineDisplacement = data.engineDisplacement.apply(lambda x: test.engineDisplacement.max(\n",
    ") if x > test.engineDisplacement.max() else x)"
   ]
  },
  {
   "cell_type": "markdown",
   "id": "WimR8e_by78L",
   "metadata": {
    "id": "WimR8e_by78L"
   },
   "source": [
    "#### description_words_count"
   ]
  },
  {
   "cell_type": "code",
   "execution_count": null,
   "id": "KbFtoBpdy8t1",
   "metadata": {
    "colab": {
     "base_uri": "https://localhost:8080/",
     "height": 370
    },
    "id": "KbFtoBpdy8t1",
    "outputId": "10cfe08c-5d9b-46cf-be7a-9dafe984ed63"
   },
   "outputs": [],
   "source": [
    "# Посмотрим на распределение выбросов\n",
    "fig, ax = plt.subplots(figsize=(10, 5))\n",
    "sns.histplot(data=data[(data.description_words_count > 307)], x='description_words_count', hue = 'train')\n",
    "plt.title(\"Распределение выбросов description_words_count в датасете \\n\")\n",
    "plt.show()"
   ]
  },
  {
   "cell_type": "code",
   "execution_count": null,
   "id": "4WHVGutRy_lw",
   "metadata": {
    "colab": {
     "base_uri": "https://localhost:8080/",
     "height": 479
    },
    "id": "4WHVGutRy_lw",
    "outputId": "28ce755f-b78f-4978-989c-d74775870d36"
   },
   "outputs": [],
   "source": [
    "# Посмотрим на распределение выбросов\n",
    "fig, ax = plt.subplots(figsize=(10, 7))\n",
    "sns.regplot(data=data[(data.description_words_count > 307) & (\n",
    "    data.train == 1)], x=\"description_words_count\", y=\"price\")\n",
    "plt.title(\"Зависимость price от engineDisplacement в train на выбросах по engineDisplacement \\n\")\n",
    "plt.show()"
   ]
  },
  {
   "cell_type": "markdown",
   "id": "PMRoBXRpzCEZ",
   "metadata": {
    "id": "PMRoBXRpzCEZ"
   },
   "source": [
    "Выбросы по признаку представлены как в train, так и в test части.\n",
    "Цена варьируется и увеличивается с увеличением признака, поэтому пока оставим без изменений.\n",
    "Можно попробовать логарифмировать переменную."
   ]
  },
  {
   "cell_type": "markdown",
   "id": "-s1F9WuszEL5",
   "metadata": {
    "id": "-s1F9WuszEL5"
   },
   "source": [
    "#### price\n",
    "\n",
    "Проанализировать, но вообще log значение выбросы не содержит, а мы его используем в моделях."
   ]
  },
  {
   "cell_type": "code",
   "execution_count": null,
   "id": "nNG4V-OfzE2n",
   "metadata": {
    "colab": {
     "base_uri": "https://localhost:8080/",
     "height": 370
    },
    "id": "nNG4V-OfzE2n",
    "outputId": "3d3794d6-b67d-4b3c-9875-db4eaac87280"
   },
   "outputs": [],
   "source": [
    "# Посмотрим на распределение выбросов\n",
    "fig, ax = plt.subplots(figsize=(10, 5))\n",
    "sns.histplot(data=data[(data.price > 2287500)&(data.train == 1)], x='price')\n",
    "plt.title(\"Распределение выбросов price в датасете \\n\")\n",
    "plt.show()"
   ]
  },
  {
   "cell_type": "code",
   "execution_count": null,
   "id": "UuP3NoH7zHyT",
   "metadata": {
    "colab": {
     "base_uri": "https://localhost:8080/",
     "height": 264
    },
    "id": "UuP3NoH7zHyT",
    "outputId": "de00d5d7-5f7a-402e-8264-b4bbfd0fdbe4"
   },
   "outputs": [],
   "source": [
    "data[(data.price > 2287500)&(data.train == 1)].describe(include=object)"
   ]
  },
  {
   "cell_type": "code",
   "execution_count": null,
   "id": "LI5_iZmIzJwR",
   "metadata": {
    "id": "LI5_iZmIzJwR"
   },
   "outputs": [],
   "source": [
    "# Посмотрим, какие машины имеют особо высокие цены\n",
    "data[(data.price > 2287500)&(data.train == 1)].groupby(['brand', 'model'])['price'].agg(['count', 'max'])\n",
    "# Добавим список моделей в список\n",
    "models_list = data[(data.price > 2287500)&(data.train == 1)].model.values"
   ]
  },
  {
   "cell_type": "code",
   "execution_count": null,
   "id": "SyImgc3tzL3m",
   "metadata": {
    "colab": {
     "base_uri": "https://localhost:8080/"
    },
    "id": "SyImgc3tzL3m",
    "outputId": "e1f1146f-c3a6-441d-8375-29ca1d220314"
   },
   "outputs": [],
   "source": [
    "# Вспомним, сколько авто таких моделей присутствует в тесте\n",
    "data[(data.model.isin(models_list)) & (data.train == 0)].groupby(\n",
    "    ['brand', 'model'])['model'].count()"
   ]
  },
  {
   "cell_type": "markdown",
   "id": "7vJAVmqIzO_i",
   "metadata": {
    "id": "7vJAVmqIzO_i"
   },
   "source": [
    "Вывод: есть очень дорогие авто, которые представлены и в тестовой выборке.\n",
    "Удалять строки нельзя, т.к. необходимо строить предсказания по авто таких моделей."
   ]
  },
  {
   "cell_type": "markdown",
   "id": "f7wUEFC6zQ4S",
   "metadata": {
    "id": "f7wUEFC6zQ4S"
   },
   "source": [
    "### Логарифмирование числовых признаков\n",
    "\n",
    "Поскольку многие числовые переменные имеют смещенное распределение влево/вправо попробуем логарифмировать часть признаков."
   ]
  },
  {
   "cell_type": "code",
   "execution_count": null,
   "id": "fpTqHY8CzRgh",
   "metadata": {
    "id": "fpTqHY8CzRgh"
   },
   "outputs": [],
   "source": [
    "cols_to_log = ['enginePower', 'mileage', 'engineDisplacement', 'description_words_count']\n",
    "# Применим логарифмирование ко всем числовым признакам\n",
    "for col in cols_to_log:\n",
    "    data[col] = data[col].apply(lambda w: np.log(w+1))"
   ]
  },
  {
   "cell_type": "code",
   "execution_count": null,
   "id": "FgNhnXkozUDR",
   "metadata": {
    "colab": {
     "base_uri": "https://localhost:8080/",
     "height": 901
    },
    "id": "FgNhnXkozUDR",
    "outputId": "2da1fb8a-cf1c-4910-8b78-7114af5b889d"
   },
   "outputs": [],
   "source": [
    "# Посмотрим, как изменилось распределение\n",
    "print(\"Диаграмы распределения числовых признаков после логарифмирования.\")\n",
    "fig, axes = plt.subplots(len(cols_to_log), figsize=(10, 15))\n",
    "axes = axes.flatten()\n",
    "i = 0\n",
    "\n",
    "for col in cols_to_log:\n",
    "    sns.distplot(data[col], ax=axes[i])\n",
    "    plt.title(col)\n",
    "    i = i + 1"
   ]
  },
  {
   "cell_type": "markdown",
   "id": "pj0dJm2BzWie",
   "metadata": {
    "id": "pj0dJm2BzWie"
   },
   "source": [
    "Вывод: логарифмирование позволило привести признаки к более нормальному распределению. Оставим в таком виде."
   ]
  },
  {
   "cell_type": "markdown",
   "id": "AvrH6I2QzYIw",
   "metadata": {
    "id": "AvrH6I2QzYIw"
   },
   "source": [
    "### Отбор признаков для моделирования\n",
    "Корреляционный анализ числовых признаков"
   ]
  },
  {
   "cell_type": "code",
   "execution_count": null,
   "id": "Bj_g3FSszZBI",
   "metadata": {
    "colab": {
     "base_uri": "https://localhost:8080/",
     "height": 519
    },
    "id": "Bj_g3FSszZBI",
    "outputId": "c982ffb9-a6bb-489d-e69f-9183dd71593f"
   },
   "outputs": [],
   "source": [
    "# Построим матрицу корреляций\n",
    "plt.figure(figsize=(10, 6))\n",
    "heatmap = sns.heatmap(data[data['train'] == 1][num_cols +\n",
    "                                               target_col].corr(), vmin=-1, vmax=1, annot=True, cmap='BrBG')\n",
    "heatmap.set_title('Матрица корреляций числовых и целевой переменных')\n",
    "plt.show()"
   ]
  },
  {
   "cell_type": "markdown",
   "id": "nZIZpBsKzeJr",
   "metadata": {
    "id": "nZIZpBsKzeJr"
   },
   "source": [
    "Сформируем список признаков, которые коллинеарны. Для этого выставим критерий наличия корреляции больше 0.8 или -0.8."
   ]
  },
  {
   "cell_type": "code",
   "execution_count": null,
   "id": "7X1QoPtlze6T",
   "metadata": {
    "colab": {
     "base_uri": "https://localhost:8080/"
    },
    "id": "7X1QoPtlze6T",
    "outputId": "4abc4630-08c9-4962-c74c-4e79535593f5"
   },
   "outputs": [],
   "source": [
    "# Сформируем сет со скоррелированными признаками\n",
    "correlated_features = set()\n",
    "\n",
    "# Удаляем целевые и служебные переменные из матрицы корреляций, т.к. корреляция с ней хорошо для модели\n",
    "correlation_matrix = data[data['train'] == 1][num_cols].corr()\n",
    "\n",
    "for i in range(len(correlation_matrix.columns)):\n",
    "    for j in range(i):\n",
    "        if abs(correlation_matrix.iloc[i, j]) > 0.8:\n",
    "            colname = correlation_matrix.columns[j]\n",
    "            correlated_features.add(colname)\n",
    "\n",
    "print('Список скоррелированных признаков на удаление из обучения модели:',\n",
    "      correlated_features)"
   ]
  },
  {
   "cell_type": "markdown",
   "id": "eVxkNFjTzhuC",
   "metadata": {
    "id": "eVxkNFjTzhuC"
   },
   "source": [
    "Вывод: найдены сильно скоррелированные признаки, но мы это уже видели во время анализа ранее и добавили признаки в список на исключение."
   ]
  },
  {
   "cell_type": "markdown",
   "id": "waQBEJ2rzj1P",
   "metadata": {
    "id": "waQBEJ2rzj1P"
   },
   "source": [
    "#### Удаление признаков перед моделированием"
   ]
  },
  {
   "cell_type": "code",
   "execution_count": null,
   "id": "ZgQwZ2tpzkwj",
   "metadata": {
    "id": "ZgQwZ2tpzkwj"
   },
   "outputs": [],
   "source": [
    "# Удаляем признаки из датасета, которые решили удалить по ходу анализа\n",
    "data.drop(cols_removal, axis=1, inplace=True)"
   ]
  },
  {
   "cell_type": "code",
   "execution_count": null,
   "id": "QaCDDbV4znIc",
   "metadata": {
    "colab": {
     "base_uri": "https://localhost:8080/"
    },
    "id": "QaCDDbV4znIc",
    "outputId": "9402bd5e-d9fe-43c5-99d8-9260640418b9"
   },
   "outputs": [],
   "source": [
    "# Смотрим, какие признаки остались\n",
    "print(\"После обработки остались следующие признаки:\", data.columns)"
   ]
  },
  {
   "cell_type": "markdown",
   "id": "W72gVi_szpgu",
   "metadata": {
    "id": "W72gVi_szpgu"
   },
   "source": [
    "#### Кодирование категориальных признаков"
   ]
  },
  {
   "cell_type": "markdown",
   "id": "7QjghNuUzrWS",
   "metadata": {
    "id": "7QjghNuUzrWS"
   },
   "source": [
    "Основная логика выбора способа кодирования:\n",
    "\n",
    "если у признака есть какая-то зависимость от порядкового номера категории или какая-то количественно выраженная разница между категориями, то используем label encoding.\n",
    "если такого свойства нет и в списке большое количество значений, то пробуем one-hot-encoding.\n",
    "После проведения экспериментов было решено применить label encoding ко всем категориальным признакам, т.к. даже после удаления статистически незначимых признаков, результаты были хуже."
   ]
  },
  {
   "cell_type": "markdown",
   "id": "dS_DfY1pzu6z",
   "metadata": {
    "id": "dS_DfY1pzu6z"
   },
   "source": [
    "#### Label Encoding"
   ]
  },
  {
   "cell_type": "code",
   "execution_count": null,
   "id": "vY5lFycRzsV3",
   "metadata": {
    "id": "vY5lFycRzsV3"
   },
   "outputs": [],
   "source": [
    "# Labels encoding for all\n",
    "cols_to_encode = list(set(data.columns) & set(cat_cols))\n",
    "for colum in cols_to_encode:\n",
    "    data[colum] = data[colum].astype('category').cat.codes"
   ]
  },
  {
   "cell_type": "markdown",
   "id": "u7yjZh-HzzHp",
   "metadata": {
    "id": "u7yjZh-HzzHp"
   },
   "source": [
    "#### Поиск статистически значимых различий с помощью теста Стьюдента\n",
    "\n",
    "Проверим, есть ли статистическая разница в распределении цен по категориальным и бинарным признакам, с помощью теста Стьюдента. Проверим нулевую гипотезу о том, что распределения цен по различным параметрам неразличимы."
   ]
  },
  {
   "cell_type": "code",
   "execution_count": null,
   "id": "PKX0Qlikz0Hb",
   "metadata": {
    "colab": {
     "base_uri": "https://localhost:8080/"
    },
    "id": "PKX0Qlikz0Hb",
    "outputId": "7574e01c-afe4-473b-8452-10d1ba086fbf"
   },
   "outputs": [],
   "source": [
    "# Создадим список с колонками, которые удалим из данных ввиду их статистической незначимости\n",
    "cat_cols_remove = []\n",
    "\n",
    "# Проходим по колонкам, которые исключали из корреляционного анализа\n",
    "for column in (list(set(data.columns).difference(num_cols+service_cols+target_col))):\n",
    "    cat_cols_remove.append(get_stat_dif(column))"
   ]
  },
  {
   "cell_type": "markdown",
   "id": "MVWEPtEfz3ka",
   "metadata": {
    "id": "MVWEPtEfz3ka"
   },
   "source": [
    "Вывод: присутсвуют признаки, для которых, не все значения категорий влияют на целевую переменную, такие признаки можно было бы удалить, если бы использовали one hot encoding, пока оставляем."
   ]
  },
  {
   "cell_type": "code",
   "execution_count": null,
   "id": "9yC2MIjLz5XU",
   "metadata": {
    "colab": {
     "base_uri": "https://localhost:8080/",
     "height": 229
    },
    "id": "9yC2MIjLz5XU",
    "outputId": "534aca17-3866-4791-df58-89a45905fffa"
   },
   "outputs": [],
   "source": [
    "#Оценим значимость числовых признаков\n",
    "fig, ax = plt.subplots(figsize=(6, 3))\n",
    "anova_df = data[data['train'] == 1].dropna().copy()\n",
    "imp_num = pd.Series(f_regression(anova_df[list(set(data.columns) & set(num_cols))], anova_df['price_log'])[\n",
    "                    0], index=list(set(data.columns) & set(num_cols)))\n",
    "imp_num.sort_values(inplace=True)\n",
    "imp_num.plot(\n",
    "    kind='barh', title='Значимость непрерывных переменных по ANOVA F test по всем маркам')\n",
    "plt.show()"
   ]
  },
  {
   "cell_type": "code",
   "execution_count": null,
   "id": "fKeFCUZZz8BA",
   "metadata": {
    "colab": {
     "base_uri": "https://localhost:8080/",
     "height": 447
    },
    "id": "fKeFCUZZz8BA",
    "outputId": "12a47bb8-e203-4f23-ef85-aa5216347415"
   },
   "outputs": [],
   "source": [
    "# Оценим значимость бинарных и категориальных признаков\n",
    "fig, ax = plt.subplots(figsize=(15, 7))\n",
    "\n",
    "anova_df = data[data['train'] == 1].dropna().copy()\n",
    "\n",
    "# Labels encoding\n",
    "cols_to_encode = list(set(anova_df.columns) & set(cat_cols))\n",
    "for colum in cols_to_encode:\n",
    "    anova_df[colum] = anova_df[colum].astype('category').cat.codes\n",
    "\n",
    "imp_cat = pd.Series(mutual_info_regression(\n",
    "    anova_df[list(set(data.columns) & set(bin_cols+cat_cols))], anova_df['price'], discrete_features=True), index=list(set(data.columns) & set(bin_cols+cat_cols)))\n",
    "imp_cat.sort_values(inplace=True)\n",
    "imp_cat.plot(kind='barh', title='Значимость категориальных переменных')\n",
    "plt.show()"
   ]
  },
  {
   "cell_type": "markdown",
   "id": "fMZP3mn0z-ef",
   "metadata": {
    "id": "fMZP3mn0z-ef"
   },
   "source": [
    "Выводы:\n",
    "\n",
    "Из числовых признаков очень сильное влияние имеет productionDate, mileage, enginePower.\n",
    "Из категориальных и бинарных самое сильное влияние оказывает model, brand, ownersCount."
   ]
  },
  {
   "cell_type": "markdown",
   "id": "kZAK2mVm0BTh",
   "metadata": {
    "id": "kZAK2mVm0BTh"
   },
   "source": [
    "### Стандартизация числовых признаков"
   ]
  },
  {
   "cell_type": "code",
   "execution_count": null,
   "id": "L0ITF2kr0Dfp",
   "metadata": {
    "id": "L0ITF2kr0Dfp"
   },
   "outputs": [],
   "source": [
    "## Стандартизация числовых переменных\n",
    "cols_to_scale = list(set(data.columns) & set(num_cols))\n",
    "data[cols_to_scale] = StandardScaler().fit_transform(data[cols_to_scale].values)"
   ]
  },
  {
   "cell_type": "code",
   "execution_count": null,
   "id": "YMj5Fj4F0FkB",
   "metadata": {
    "id": "YMj5Fj4F0FkB"
   },
   "outputs": [],
   "source": [
    "# Выделим тестовую и тренировочную части\n",
    "X = data.query('train == 1').drop(\n",
    "    ['train', 'price', 'price_log'], axis=1)\n",
    "X_sub = data.query('train == 0').drop(\n",
    "    ['train', 'price', 'price_log'], axis=1)"
   ]
  },
  {
   "cell_type": "code",
   "execution_count": null,
   "id": "fwN3W3sh0HnC",
   "metadata": {
    "id": "fwN3W3sh0HnC"
   },
   "outputs": [],
   "source": [
    "# В качестве y указываем цену\n",
    "y = data[data.train == 1]['price']"
   ]
  },
  {
   "cell_type": "code",
   "execution_count": null,
   "id": "UkymIgGq0JNU",
   "metadata": {
    "id": "UkymIgGq0JNU"
   },
   "outputs": [],
   "source": [
    "#### Train Split\n",
    "X_train, X_test, y_train, y_test = train_test_split(\n",
    "    X, y, test_size=VAL_SIZE, shuffle=True, random_state=RANDOM_SEED)"
   ]
  },
  {
   "cell_type": "markdown",
   "id": "YqxnzY-l0LbN",
   "metadata": {
    "id": "YqxnzY-l0LbN"
   },
   "source": [
    "### Создадим \"наивную\" модель\n",
    "Эта модель будет предсказывать среднюю цену по модели двигателя (mileage). C ней будем сравнивать другие модели."
   ]
  },
  {
   "cell_type": "code",
   "execution_count": null,
   "id": "YsC5Ch4U0NgV",
   "metadata": {
    "id": "YsC5Ch4U0NgV"
   },
   "outputs": [],
   "source": [
    "tmp_train = X_train.copy()\n",
    "tmp_train['price'] = y_train"
   ]
  },
  {
   "cell_type": "code",
   "execution_count": null,
   "id": "Nmt8EeAo0PnB",
   "metadata": {
    "colab": {
     "base_uri": "https://localhost:8080/"
    },
    "id": "Nmt8EeAo0PnB",
    "outputId": "391be507-7b80-40f7-b1de-96cc3999d2a6"
   },
   "outputs": [],
   "source": [
    "# Находим median по экземплярам mileage в train и размечаем test\n",
    "predict = X_test['mileage'].map(\n",
    "    tmp_train.groupby('mileage')['price'].median())\n",
    "\n",
    "# оцениваем точность\n",
    "print(\n",
    "    f\"Точность наивной модели по метрике MAPE: {(mape(y_test, predict.values))*100:0.2f}%\")"
   ]
  },
  {
   "cell_type": "markdown",
   "id": "JDvJuh3R0RyR",
   "metadata": {
    "id": "JDvJuh3R0RyR"
   },
   "source": [
    "### Простая модель линейной регрессии"
   ]
  },
  {
   "cell_type": "code",
   "execution_count": null,
   "id": "LDykNB7Q0T6N",
   "metadata": {
    "colab": {
     "base_uri": "https://localhost:8080/"
    },
    "id": "LDykNB7Q0T6N",
    "outputId": "08ecf182-c724-44a6-f73a-61075a91e25d"
   },
   "outputs": [],
   "source": [
    "from sklearn.linear_model import LinearRegression\n",
    "linear_regr = LinearRegression().fit(X_train, np.log(y_train+1))\n",
    "predict_test = np.exp(linear_regr.predict(X_test))\n",
    "print(f\"Точность модели по метрике MAPE: {(mape(y_test, predict_test))*100:0.2f}%\")"
   ]
  },
  {
   "cell_type": "markdown",
   "id": "qLvukH7p0XSP",
   "metadata": {
    "id": "qLvukH7p0XSP"
   },
   "source": [
    "### CatBoost"
   ]
  },
  {
   "cell_type": "code",
   "execution_count": null,
   "id": "5Hu8rUHQ0aVR",
   "metadata": {
    "id": "5Hu8rUHQ0aVR"
   },
   "outputs": [],
   "source": [
    "# model = CatBoostRegressor(iterations = 5000,\n",
    "#                           random_seed = RANDOM_SEED,\n",
    "#                           eval_metric='MAPE',\n",
    "#                           custom_metric=['R2', 'MAE'],\n",
    "#                           silent=True,\n",
    "#                          )\n",
    "# model.fit(X_train, y_train,\n",
    "#          #cat_features=cat_features_ids,\n",
    "#          eval_set=(X_test, y_test),\n",
    "#          verbose_eval=0,\n",
    "#          use_best_model=True,\n",
    "#          #plot=True\n",
    "#          )\n",
    "\n",
    "# model.save_model('catboost_single_model_baseline.model')"
   ]
  },
  {
   "cell_type": "code",
   "execution_count": null,
   "id": "IpRPE_Yd0e8W",
   "metadata": {
    "id": "IpRPE_Yd0e8W"
   },
   "outputs": [],
   "source": [
    "# # оцениваем точность\n",
    "# predict = model.predict(X_test)\n",
    "# print(f\"Точность модели по метрике MAPE: {(mape(y_test, predict))*100:0.2f}%\")\n",
    "\n",
    "# # Точность модели по метрике MAPE: 15.03%"
   ]
  },
  {
   "cell_type": "code",
   "execution_count": null,
   "id": "9xObGwfD0iAR",
   "metadata": {
    "id": "9xObGwfD0iAR"
   },
   "outputs": [],
   "source": [
    "# # Log Target\n",
    "# # Попробуем взять таргет в логорифм - это позволит уменьшить влияние выбросов на обучение модели.\n",
    "# model = CatBoostRegressor(iterations=5000,\n",
    "#                           random_seed=RANDOM_SEED,\n",
    "#                           eval_metric='MAPE',\n",
    "#                           custom_metric=['R2', 'MAE'],\n",
    "#                           silent=True,\n",
    "#                           )\n",
    "# model.fit(X_train, np.log(y_train),\n",
    "#           # cat_features=cat_features_ids,\n",
    "#           eval_set=(X_test, np.log(y_test)),\n",
    "#           verbose_eval=0,\n",
    "#           use_best_model=True,\n",
    "#           # plot=True\n",
    "#           )\n",
    "\n",
    "# model.save_model('catboost_single_model_2_baseline.model')\n",
    "\n",
    "# predict_test = np.exp(model.predict(X_test))\n",
    "# predict_submission = np.exp(model.predict(X_sub))\n",
    "\n",
    "# print(\n",
    "#     f\"Точность модели по метрике MAPE: {(mape(y_test, predict_test))*100:0.2f}%\")\n",
    "\n",
    "# # Точность модели по метрике MAPE: 12.36%"
   ]
  },
  {
   "cell_type": "markdown",
   "id": "CWbWkvT31Ns1",
   "metadata": {
    "id": "CWbWkvT31Ns1"
   },
   "source": [
    "### xgboost"
   ]
  },
  {
   "cell_type": "code",
   "execution_count": null,
   "id": "orqvdy301PEP",
   "metadata": {
    "colab": {
     "base_uri": "https://localhost:8080/"
    },
    "id": "orqvdy301PEP",
    "outputId": "3acc7199-fd34-4a60-98f7-774c0546541d"
   },
   "outputs": [],
   "source": [
    "xb = xgb.XGBRegressor(objective='reg:squarederror', colsample_bytree=0.5, learning_rate=0.03, \\\n",
    "                      max_depth=12, alpha=1, n_jobs=-1, n_estimators=1000)\n",
    "xb.fit(X_train, np.log(y_train+1))\n",
    "\n",
    "predict_test = np.exp(xb.predict(X_test))\n",
    "predict_submission = np.exp(xb.predict(X_sub))\n",
    "\n",
    "print(\n",
    "      f\"Точность модели по метрике MAPE: {(mape(y_test, predict_test))*100:0.2f}%\")\n",
    "\n",
    "# Точность модели по метрике MAPE: 12.01%"
   ]
  },
  {
   "cell_type": "markdown",
   "id": "btRMZfRb1doW",
   "metadata": {
    "id": "btRMZfRb1doW"
   },
   "source": [
    "### GradientBoosting с подбором параметров"
   ]
  },
  {
   "cell_type": "code",
   "execution_count": null,
   "id": "vLdbjLM-1feA",
   "metadata": {
    "id": "vLdbjLM-1feA"
   },
   "outputs": [],
   "source": [
    "# regularise(X_train, y_train)"
   ]
  },
  {
   "cell_type": "code",
   "execution_count": null,
   "id": "CKebGMNPaaJd",
   "metadata": {
    "id": "CKebGMNPaaJd"
   },
   "outputs": [],
   "source": [
    "# gb = GradientBoostingRegressor(min_samples_split=2, learning_rate=0.03, max_depth=5, n_estimators=1000)\n",
    "# gb.fit(X_train, np.log(y_train+1))\n",
    "\n",
    "# predict_test = np.exp(gb.predict(X_test))\n",
    "# predict_submission = np.exp(gb.predict(X_sub))\n",
    "\n",
    "# print(\n",
    "#       f\"Точность модели по метрике MAPE: {(mape(y_test, predict_test))*100:0.2f}%\")\n",
    "\n",
    "# # Точность модели по метрике MAPE: 13.91%"
   ]
  },
  {
   "cell_type": "markdown",
   "id": "IifyODqleNTX",
   "metadata": {
    "id": "IifyODqleNTX"
   },
   "source": [
    "### Stacking"
   ]
  },
  {
   "cell_type": "code",
   "execution_count": null,
   "id": "FiCANxOme_JH",
   "metadata": {
    "id": "FiCANxOme_JH"
   },
   "outputs": [],
   "source": [
    "# scaler = StandardScaler() \n",
    "# X_train = scaler.fit_transform(X_train) \n",
    "# X_test = scaler.transform(X_test) \n",
    "\n",
    "# y_train = y_train \n",
    "# y_test = y_test\n",
    "\n",
    "# cv = KFold(n_splits=5, shuffle=True, random_state=RANDOM_SEED)\n",
    "\n",
    "# X_train = np.where(np.isnan(X_train), 0, X_train)\n",
    "# X_test = np.where(np.isnan(X_test), 0, X_test)\n",
    "# y_train = np.where(np.isnan(y_train), 0, y_train)"
   ]
  },
  {
   "cell_type": "code",
   "execution_count": null,
   "id": "eey9kwN_fNmE",
   "metadata": {
    "id": "eey9kwN_fNmE"
   },
   "outputs": [],
   "source": [
    "# regr = RandomForestRegressor(n_estimators=300, min_samples_split=2, min_samples_leaf=1, \n",
    "#                              max_features=3, max_depth=19, bootstrap=True, random_state=RANDOM_SEED)\n",
    "\n",
    "# stacked_features_train, stacked_features_test = generate_meta_features([\n",
    "#                             regr,\n",
    "#                             GradientBoostingRegressor(min_samples_split=2, learning_rate=0.03, max_depth=10, n_estimators=300),\n",
    "#                             KNeighborsRegressor(n_neighbors=2, algorithm = 'ball_tree', weights = 'distance', p=1),\n",
    "#                             RandomForestRegressor(random_state = RANDOM_SEED, n_jobs = -1, verbose = 1, max_depth=5, n_estimators=200),\n",
    "#                             ExtraTreesRegressor(random_state=RANDOM_SEED), \n",
    "#                             RandomForestRegressor(random_state=RANDOM_SEED, max_depth=15) \\\n",
    "# ], X_train, X_test, y_train, cv)"
   ]
  },
  {
   "cell_type": "code",
   "execution_count": null,
   "id": "2-b6C3i1oYSc",
   "metadata": {
    "id": "2-b6C3i1oYSc"
   },
   "outputs": [],
   "source": [
    "# egr.fit(X_train, y_train)\n",
    "\n",
    "# predict_test = regr.predict(X_test)\n",
    "# predict_submission = regr.predict(X_sub)\n",
    "\n",
    "# print(\n",
    "#       f\"Точность модели по метрике MAPE: {(mape(y_test, predict_test))*100:0.2f}%\")\n",
    "\n",
    "# # Точность модели по метрике MAPE: 13.86%"
   ]
  },
  {
   "cell_type": "markdown",
   "id": "cUtJHlCzpcS6",
   "metadata": {
    "id": "cUtJHlCzpcS6"
   },
   "source": [
    "### Выводы\n",
    "CatBoost и GradientBoosting показывают хороший результат метрики, но лучший результат показал xgboost: MAPE 12.01.\n",
    "Заметно улучшается результат после логарифмирования целевой переменной."
   ]
  },
  {
   "cell_type": "markdown",
   "id": "cFGtG0E7qCmK",
   "metadata": {
    "id": "cFGtG0E7qCmK"
   },
   "source": [
    "### SUBMISSION"
   ]
  },
  {
   "cell_type": "code",
   "execution_count": null,
   "id": "Mf_aLywBrRCv",
   "metadata": {
    "colab": {
     "base_uri": "https://localhost:8080/",
     "height": 363
    },
    "id": "Mf_aLywBrRCv",
    "outputId": "75a28007-87bf-47e6-84ba-c5cdd0ac4562"
   },
   "outputs": [],
   "source": [
    "# Для финального сабмишена выбран np.exp(xb.predict(X_sub))\n",
    "predict_submission = np.exp(xb.predict(X_sub))\n",
    "\n",
    "sample_submission['price'] = np.round(np.array(predict_submission)/1000,2)*1000\n",
    "sample_submission.to_csv(f'submission_v{VERSION}.csv', index=False)\n",
    "sample_submission.head(10)"
   ]
  }
 ],
 "metadata": {
  "colab": {
   "collapsed_sections": [],
   "name": "26092021.ipynb",
   "provenance": []
  },
  "kernelspec": {
   "display_name": "Python 3",
   "language": "python",
   "name": "python3"
  },
  "language_info": {
   "codemirror_mode": {
    "name": "ipython",
    "version": 3
   },
   "file_extension": ".py",
   "mimetype": "text/x-python",
   "name": "python",
   "nbconvert_exporter": "python",
   "pygments_lexer": "ipython3",
   "version": "3.8.8"
  }
 },
 "nbformat": 4,
 "nbformat_minor": 5
}
